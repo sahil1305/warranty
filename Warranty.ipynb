{
 "cells": [
  {
   "cell_type": "markdown",
   "metadata": {},
   "source": [
    "### Importing Libraries"
   ]
  },
  {
   "cell_type": "code",
   "execution_count": 1,
   "metadata": {},
   "outputs": [],
   "source": [
    "# Start Python Imports\n",
    "import math, time, random, datetime\n",
    "\n",
    "# Data Manipulation\n",
    "import numpy as np\n",
    "import pandas as pd\n",
    "\n",
    "# Visualization \n",
    "import matplotlib.pyplot as plt\n",
    "import seaborn as sns\n",
    "import missingno\n",
    "\n",
    "# Preprocessing\n",
    "from sklearn.preprocessing import OneHotEncoder, LabelEncoder, label_binarize\n",
    "from imblearn.over_sampling import SMOTE\n",
    "\n",
    "# Machine learning\n",
    "import catboost\n",
    "from sklearn.model_selection import train_test_split\n",
    "from sklearn import model_selection, tree, preprocessing, metrics, linear_model\n",
    "from sklearn.svm import SVC\n",
    "from sklearn.linear_model import Perceptron\n",
    "from sklearn.svm import LinearSVC\n",
    "from sklearn.ensemble import GradientBoostingClassifier\n",
    "from sklearn.neighbors import KNeighborsClassifier\n",
    "from sklearn.naive_bayes import GaussianNB\n",
    "from sklearn.linear_model import LinearRegression, LogisticRegression, SGDClassifier\n",
    "from sklearn.tree import DecisionTreeClassifier\n",
    "from sklearn.ensemble import RandomForestClassifier\n",
    "from catboost import CatBoostClassifier, Pool, cv\n",
    "from sklearn.metrics import confusion_matrix\n",
    "\n",
    "# Let's ignore warnings for now\n",
    "import warnings\n",
    "warnings.filterwarnings('ignore')"
   ]
  },
  {
   "cell_type": "markdown",
   "metadata": {},
   "source": [
    "### Loading Train Data"
   ]
  },
  {
   "cell_type": "code",
   "execution_count": 2,
   "metadata": {},
   "outputs": [],
   "source": [
    "claims = pd.read_csv(\"train.csv\")"
   ]
  },
  {
   "cell_type": "code",
   "execution_count": 3,
   "metadata": {},
   "outputs": [
    {
     "data": {
      "text/html": [
       "<div>\n",
       "<style scoped>\n",
       "    .dataframe tbody tr th:only-of-type {\n",
       "        vertical-align: middle;\n",
       "    }\n",
       "\n",
       "    .dataframe tbody tr th {\n",
       "        vertical-align: top;\n",
       "    }\n",
       "\n",
       "    .dataframe thead th {\n",
       "        text-align: right;\n",
       "    }\n",
       "</style>\n",
       "<table border=\"1\" class=\"dataframe\">\n",
       "  <thead>\n",
       "    <tr style=\"text-align: right;\">\n",
       "      <th></th>\n",
       "      <th>Unnamed: 0</th>\n",
       "      <th>Region</th>\n",
       "      <th>State</th>\n",
       "      <th>Area</th>\n",
       "      <th>City</th>\n",
       "      <th>Consumer_profile</th>\n",
       "      <th>Product_category</th>\n",
       "      <th>Product_type</th>\n",
       "      <th>AC_1001_Issue</th>\n",
       "      <th>AC_1002_Issue</th>\n",
       "      <th>...</th>\n",
       "      <th>TV_2001_Issue</th>\n",
       "      <th>TV_2002_Issue</th>\n",
       "      <th>TV_2003_Issue</th>\n",
       "      <th>Claim_Value</th>\n",
       "      <th>Service_Centre</th>\n",
       "      <th>Product_Age</th>\n",
       "      <th>Purchased_from</th>\n",
       "      <th>Call_details</th>\n",
       "      <th>Purpose</th>\n",
       "      <th>Fraud</th>\n",
       "    </tr>\n",
       "  </thead>\n",
       "  <tbody>\n",
       "    <tr>\n",
       "      <th>0</th>\n",
       "      <td>7957</td>\n",
       "      <td>North East</td>\n",
       "      <td>Assam</td>\n",
       "      <td>Rural</td>\n",
       "      <td>Guwhati</td>\n",
       "      <td>Personal</td>\n",
       "      <td>Household</td>\n",
       "      <td>AC</td>\n",
       "      <td>0</td>\n",
       "      <td>1</td>\n",
       "      <td>...</td>\n",
       "      <td>0</td>\n",
       "      <td>0</td>\n",
       "      <td>0</td>\n",
       "      <td>4474.0</td>\n",
       "      <td>12</td>\n",
       "      <td>202</td>\n",
       "      <td>Manufacturer</td>\n",
       "      <td>30.0</td>\n",
       "      <td>Claim</td>\n",
       "      <td>0</td>\n",
       "    </tr>\n",
       "    <tr>\n",
       "      <th>1</th>\n",
       "      <td>1396</td>\n",
       "      <td>East</td>\n",
       "      <td>Delhi</td>\n",
       "      <td>Urban</td>\n",
       "      <td>New Delhi</td>\n",
       "      <td>Personal</td>\n",
       "      <td>Entertainment</td>\n",
       "      <td>TV</td>\n",
       "      <td>0</td>\n",
       "      <td>0</td>\n",
       "      <td>...</td>\n",
       "      <td>1</td>\n",
       "      <td>1</td>\n",
       "      <td>1</td>\n",
       "      <td>25000.0</td>\n",
       "      <td>13</td>\n",
       "      <td>60</td>\n",
       "      <td>Dealer</td>\n",
       "      <td>1.3</td>\n",
       "      <td>Complaint</td>\n",
       "      <td>0</td>\n",
       "    </tr>\n",
       "    <tr>\n",
       "      <th>2</th>\n",
       "      <td>7582</td>\n",
       "      <td>West</td>\n",
       "      <td>Andhra Pradesh</td>\n",
       "      <td>Rural</td>\n",
       "      <td>Hyderabad</td>\n",
       "      <td>Business</td>\n",
       "      <td>Household</td>\n",
       "      <td>AC</td>\n",
       "      <td>0</td>\n",
       "      <td>0</td>\n",
       "      <td>...</td>\n",
       "      <td>0</td>\n",
       "      <td>0</td>\n",
       "      <td>0</td>\n",
       "      <td>10000.0</td>\n",
       "      <td>12</td>\n",
       "      <td>3</td>\n",
       "      <td>Dealer</td>\n",
       "      <td>2.5</td>\n",
       "      <td>Claim</td>\n",
       "      <td>0</td>\n",
       "    </tr>\n",
       "    <tr>\n",
       "      <th>3</th>\n",
       "      <td>5824</td>\n",
       "      <td>West</td>\n",
       "      <td>Gujarat</td>\n",
       "      <td>Rural</td>\n",
       "      <td>Ahmedabad</td>\n",
       "      <td>Personal</td>\n",
       "      <td>Entertainment</td>\n",
       "      <td>TV</td>\n",
       "      <td>0</td>\n",
       "      <td>0</td>\n",
       "      <td>...</td>\n",
       "      <td>1</td>\n",
       "      <td>1</td>\n",
       "      <td>0</td>\n",
       "      <td>4216.0</td>\n",
       "      <td>10</td>\n",
       "      <td>672</td>\n",
       "      <td>Dealer</td>\n",
       "      <td>25.0</td>\n",
       "      <td>Other</td>\n",
       "      <td>0</td>\n",
       "    </tr>\n",
       "    <tr>\n",
       "      <th>4</th>\n",
       "      <td>4086</td>\n",
       "      <td>South West</td>\n",
       "      <td>Kerala</td>\n",
       "      <td>Rural</td>\n",
       "      <td>Kochi</td>\n",
       "      <td>Business</td>\n",
       "      <td>Household</td>\n",
       "      <td>AC</td>\n",
       "      <td>0</td>\n",
       "      <td>0</td>\n",
       "      <td>...</td>\n",
       "      <td>0</td>\n",
       "      <td>0</td>\n",
       "      <td>0</td>\n",
       "      <td>20000.0</td>\n",
       "      <td>13</td>\n",
       "      <td>3</td>\n",
       "      <td>Manufacturer</td>\n",
       "      <td>6.5</td>\n",
       "      <td>Claim</td>\n",
       "      <td>0</td>\n",
       "    </tr>\n",
       "  </tbody>\n",
       "</table>\n",
       "<p>5 rows × 21 columns</p>\n",
       "</div>"
      ],
      "text/plain": [
       "   Unnamed: 0      Region           State   Area       City Consumer_profile  \\\n",
       "0        7957  North East           Assam  Rural    Guwhati         Personal   \n",
       "1        1396        East           Delhi  Urban  New Delhi         Personal   \n",
       "2        7582        West  Andhra Pradesh  Rural  Hyderabad         Business   \n",
       "3        5824        West         Gujarat  Rural  Ahmedabad         Personal   \n",
       "4        4086  South West          Kerala  Rural      Kochi         Business   \n",
       "\n",
       "  Product_category Product_type  AC_1001_Issue  AC_1002_Issue  ...  \\\n",
       "0        Household           AC              0              1  ...   \n",
       "1    Entertainment           TV              0              0  ...   \n",
       "2        Household           AC              0              0  ...   \n",
       "3    Entertainment           TV              0              0  ...   \n",
       "4        Household           AC              0              0  ...   \n",
       "\n",
       "   TV_2001_Issue  TV_2002_Issue  TV_2003_Issue  Claim_Value  Service_Centre  \\\n",
       "0              0              0              0       4474.0              12   \n",
       "1              1              1              1      25000.0              13   \n",
       "2              0              0              0      10000.0              12   \n",
       "3              1              1              0       4216.0              10   \n",
       "4              0              0              0      20000.0              13   \n",
       "\n",
       "   Product_Age  Purchased_from Call_details    Purpose Fraud  \n",
       "0          202    Manufacturer         30.0      Claim     0  \n",
       "1           60          Dealer          1.3  Complaint     0  \n",
       "2            3          Dealer          2.5      Claim     0  \n",
       "3          672          Dealer         25.0      Other     0  \n",
       "4            3    Manufacturer          6.5      Claim     0  \n",
       "\n",
       "[5 rows x 21 columns]"
      ]
     },
     "execution_count": 3,
     "metadata": {},
     "output_type": "execute_result"
    }
   ],
   "source": [
    "claims.head()"
   ]
  },
  {
   "cell_type": "code",
   "execution_count": 4,
   "metadata": {},
   "outputs": [
    {
     "data": {
      "text/plain": [
       "(8341, 21)"
      ]
     },
     "execution_count": 4,
     "metadata": {},
     "output_type": "execute_result"
    }
   ],
   "source": [
    "claims.shape"
   ]
  },
  {
   "cell_type": "markdown",
   "metadata": {},
   "source": [
    "### Exploratory Data Analysis"
   ]
  },
  {
   "cell_type": "code",
   "execution_count": 5,
   "metadata": {},
   "outputs": [],
   "source": [
    "claims.loc[(claims.State == \"UP\"), \"State\"] = \"Uttar Pradesh\"  ## Replacing UP with Uttar Pradesh"
   ]
  },
  {
   "cell_type": "code",
   "execution_count": 6,
   "metadata": {},
   "outputs": [],
   "source": [
    "claims.loc[(claims.Purpose == \"claim\"), \"Purpose\"] = \"Claim\"  ## Replacing claim with Claim"
   ]
  },
  {
   "cell_type": "code",
   "execution_count": 7,
   "metadata": {},
   "outputs": [],
   "source": [
    "claims.loc[(claims.State == \"Telengana\"), \"City\"] = \"Hyderabad 1\"   ## Separating hyderbad among two states. like Andhra Pradesh = Hyderbad, Telengana = Hyderabad 1"
   ]
  },
  {
   "cell_type": "code",
   "execution_count": 8,
   "metadata": {},
   "outputs": [
    {
     "name": "stdout",
     "output_type": "stream",
     "text": [
      "<class 'pandas.core.frame.DataFrame'>\n",
      "RangeIndex: 8341 entries, 0 to 8340\n",
      "Data columns (total 21 columns):\n",
      " #   Column            Non-Null Count  Dtype  \n",
      "---  ------            --------------  -----  \n",
      " 0   Unnamed: 0        8341 non-null   int64  \n",
      " 1   Region            8341 non-null   object \n",
      " 2   State             8341 non-null   object \n",
      " 3   Area              8341 non-null   object \n",
      " 4   City              8341 non-null   object \n",
      " 5   Consumer_profile  8341 non-null   object \n",
      " 6   Product_category  8341 non-null   object \n",
      " 7   Product_type      8341 non-null   object \n",
      " 8   AC_1001_Issue     8341 non-null   int64  \n",
      " 9   AC_1002_Issue     8341 non-null   int64  \n",
      " 10  AC_1003_Issue     8341 non-null   int64  \n",
      " 11  TV_2001_Issue     8341 non-null   int64  \n",
      " 12  TV_2002_Issue     8341 non-null   int64  \n",
      " 13  TV_2003_Issue     8341 non-null   int64  \n",
      " 14  Claim_Value       8101 non-null   float64\n",
      " 15  Service_Centre    8341 non-null   int64  \n",
      " 16  Product_Age       8341 non-null   int64  \n",
      " 17  Purchased_from    8341 non-null   object \n",
      " 18  Call_details      8341 non-null   float64\n",
      " 19  Purpose           8341 non-null   object \n",
      " 20  Fraud             8341 non-null   int64  \n",
      "dtypes: float64(2), int64(10), object(9)\n",
      "memory usage: 1.3+ MB\n"
     ]
    }
   ],
   "source": [
    "claims.info()"
   ]
  },
  {
   "cell_type": "code",
   "execution_count": 9,
   "metadata": {},
   "outputs": [
    {
     "data": {
      "text/html": [
       "<div>\n",
       "<style scoped>\n",
       "    .dataframe tbody tr th:only-of-type {\n",
       "        vertical-align: middle;\n",
       "    }\n",
       "\n",
       "    .dataframe tbody tr th {\n",
       "        vertical-align: top;\n",
       "    }\n",
       "\n",
       "    .dataframe thead th {\n",
       "        text-align: right;\n",
       "    }\n",
       "</style>\n",
       "<table border=\"1\" class=\"dataframe\">\n",
       "  <thead>\n",
       "    <tr style=\"text-align: right;\">\n",
       "      <th></th>\n",
       "      <th>Unnamed: 0</th>\n",
       "      <th>AC_1001_Issue</th>\n",
       "      <th>AC_1002_Issue</th>\n",
       "      <th>AC_1003_Issue</th>\n",
       "      <th>TV_2001_Issue</th>\n",
       "      <th>TV_2002_Issue</th>\n",
       "      <th>TV_2003_Issue</th>\n",
       "      <th>Claim_Value</th>\n",
       "      <th>Service_Centre</th>\n",
       "      <th>Product_Age</th>\n",
       "      <th>Call_details</th>\n",
       "      <th>Fraud</th>\n",
       "    </tr>\n",
       "  </thead>\n",
       "  <tbody>\n",
       "    <tr>\n",
       "      <th>count</th>\n",
       "      <td>8341.000000</td>\n",
       "      <td>8341.000000</td>\n",
       "      <td>8341.000000</td>\n",
       "      <td>8341.000000</td>\n",
       "      <td>8341.000000</td>\n",
       "      <td>8341.000000</td>\n",
       "      <td>8341.000000</td>\n",
       "      <td>8101.000000</td>\n",
       "      <td>8341.000000</td>\n",
       "      <td>8341.000000</td>\n",
       "      <td>8341.000000</td>\n",
       "      <td>8341.000000</td>\n",
       "    </tr>\n",
       "    <tr>\n",
       "      <th>mean</th>\n",
       "      <td>13382.184750</td>\n",
       "      <td>0.268913</td>\n",
       "      <td>0.300563</td>\n",
       "      <td>0.190025</td>\n",
       "      <td>0.354274</td>\n",
       "      <td>0.433042</td>\n",
       "      <td>0.296247</td>\n",
       "      <td>14051.151586</td>\n",
       "      <td>12.832154</td>\n",
       "      <td>168.595013</td>\n",
       "      <td>10.709076</td>\n",
       "      <td>0.079847</td>\n",
       "    </tr>\n",
       "    <tr>\n",
       "      <th>std</th>\n",
       "      <td>21643.277349</td>\n",
       "      <td>0.572955</td>\n",
       "      <td>0.587182</td>\n",
       "      <td>0.500576</td>\n",
       "      <td>0.587451</td>\n",
       "      <td>0.639980</td>\n",
       "      <td>0.546295</td>\n",
       "      <td>13200.318156</td>\n",
       "      <td>1.724802</td>\n",
       "      <td>237.713181</td>\n",
       "      <td>11.610211</td>\n",
       "      <td>0.271072</td>\n",
       "    </tr>\n",
       "    <tr>\n",
       "      <th>min</th>\n",
       "      <td>1.000000</td>\n",
       "      <td>0.000000</td>\n",
       "      <td>0.000000</td>\n",
       "      <td>0.000000</td>\n",
       "      <td>0.000000</td>\n",
       "      <td>0.000000</td>\n",
       "      <td>0.000000</td>\n",
       "      <td>0.000000</td>\n",
       "      <td>10.000000</td>\n",
       "      <td>3.000000</td>\n",
       "      <td>0.500000</td>\n",
       "      <td>0.000000</td>\n",
       "    </tr>\n",
       "    <tr>\n",
       "      <th>25%</th>\n",
       "      <td>2963.000000</td>\n",
       "      <td>0.000000</td>\n",
       "      <td>0.000000</td>\n",
       "      <td>0.000000</td>\n",
       "      <td>0.000000</td>\n",
       "      <td>0.000000</td>\n",
       "      <td>0.000000</td>\n",
       "      <td>4862.000000</td>\n",
       "      <td>12.000000</td>\n",
       "      <td>10.000000</td>\n",
       "      <td>1.500000</td>\n",
       "      <td>0.000000</td>\n",
       "    </tr>\n",
       "    <tr>\n",
       "      <th>50%</th>\n",
       "      <td>5991.000000</td>\n",
       "      <td>0.000000</td>\n",
       "      <td>0.000000</td>\n",
       "      <td>0.000000</td>\n",
       "      <td>0.000000</td>\n",
       "      <td>0.000000</td>\n",
       "      <td>0.000000</td>\n",
       "      <td>10000.000000</td>\n",
       "      <td>13.000000</td>\n",
       "      <td>21.000000</td>\n",
       "      <td>2.600000</td>\n",
       "      <td>0.000000</td>\n",
       "    </tr>\n",
       "    <tr>\n",
       "      <th>75%</th>\n",
       "      <td>8957.000000</td>\n",
       "      <td>0.000000</td>\n",
       "      <td>0.000000</td>\n",
       "      <td>0.000000</td>\n",
       "      <td>1.000000</td>\n",
       "      <td>1.000000</td>\n",
       "      <td>1.000000</td>\n",
       "      <td>20000.000000</td>\n",
       "      <td>14.000000</td>\n",
       "      <td>284.000000</td>\n",
       "      <td>22.000000</td>\n",
       "      <td>0.000000</td>\n",
       "    </tr>\n",
       "    <tr>\n",
       "      <th>max</th>\n",
       "      <td>99311.000000</td>\n",
       "      <td>2.000000</td>\n",
       "      <td>2.000000</td>\n",
       "      <td>2.000000</td>\n",
       "      <td>2.000000</td>\n",
       "      <td>2.000000</td>\n",
       "      <td>2.000000</td>\n",
       "      <td>50000.000000</td>\n",
       "      <td>16.000000</td>\n",
       "      <td>991.000000</td>\n",
       "      <td>30.000000</td>\n",
       "      <td>1.000000</td>\n",
       "    </tr>\n",
       "  </tbody>\n",
       "</table>\n",
       "</div>"
      ],
      "text/plain": [
       "         Unnamed: 0  AC_1001_Issue  AC_1002_Issue  AC_1003_Issue  \\\n",
       "count   8341.000000    8341.000000    8341.000000    8341.000000   \n",
       "mean   13382.184750       0.268913       0.300563       0.190025   \n",
       "std    21643.277349       0.572955       0.587182       0.500576   \n",
       "min        1.000000       0.000000       0.000000       0.000000   \n",
       "25%     2963.000000       0.000000       0.000000       0.000000   \n",
       "50%     5991.000000       0.000000       0.000000       0.000000   \n",
       "75%     8957.000000       0.000000       0.000000       0.000000   \n",
       "max    99311.000000       2.000000       2.000000       2.000000   \n",
       "\n",
       "       TV_2001_Issue  TV_2002_Issue  TV_2003_Issue   Claim_Value  \\\n",
       "count    8341.000000    8341.000000    8341.000000   8101.000000   \n",
       "mean        0.354274       0.433042       0.296247  14051.151586   \n",
       "std         0.587451       0.639980       0.546295  13200.318156   \n",
       "min         0.000000       0.000000       0.000000      0.000000   \n",
       "25%         0.000000       0.000000       0.000000   4862.000000   \n",
       "50%         0.000000       0.000000       0.000000  10000.000000   \n",
       "75%         1.000000       1.000000       1.000000  20000.000000   \n",
       "max         2.000000       2.000000       2.000000  50000.000000   \n",
       "\n",
       "       Service_Centre  Product_Age  Call_details        Fraud  \n",
       "count     8341.000000  8341.000000   8341.000000  8341.000000  \n",
       "mean        12.832154   168.595013     10.709076     0.079847  \n",
       "std          1.724802   237.713181     11.610211     0.271072  \n",
       "min         10.000000     3.000000      0.500000     0.000000  \n",
       "25%         12.000000    10.000000      1.500000     0.000000  \n",
       "50%         13.000000    21.000000      2.600000     0.000000  \n",
       "75%         14.000000   284.000000     22.000000     0.000000  \n",
       "max         16.000000   991.000000     30.000000     1.000000  "
      ]
     },
     "execution_count": 9,
     "metadata": {},
     "output_type": "execute_result"
    }
   ],
   "source": [
    "claims.describe() #checking mean median count of continous various variables in dataset"
   ]
  },
  {
   "cell_type": "code",
   "execution_count": 10,
   "metadata": {},
   "outputs": [
    {
     "data": {
      "text/plain": [
       "<AxesSubplot:>"
      ]
     },
     "execution_count": 10,
     "metadata": {},
     "output_type": "execute_result"
    },
    {
     "data": {
      "image/png": "[encoded data removed]",
      "text/plain": [
       "<Figure size 2160x720 with 2 Axes>"
      ]
     },
     "metadata": {
      "needs_background": "light"
     },
     "output_type": "display_data"
    }
   ],
   "source": [
    "missingno.matrix(claims, figsize = (30,10)) #plotting missing value"
   ]
  },
  {
   "cell_type": "code",
   "execution_count": 11,
   "metadata": {},
   "outputs": [
    {
     "data": {
      "text/plain": [
       "Unnamed: 0            0\n",
       "Region                0\n",
       "State                 0\n",
       "Area                  0\n",
       "City                  0\n",
       "Consumer_profile      0\n",
       "Product_category      0\n",
       "Product_type          0\n",
       "AC_1001_Issue         0\n",
       "AC_1002_Issue         0\n",
       "AC_1003_Issue         0\n",
       "TV_2001_Issue         0\n",
       "TV_2002_Issue         0\n",
       "TV_2003_Issue         0\n",
       "Claim_Value         240\n",
       "Service_Centre        0\n",
       "Product_Age           0\n",
       "Purchased_from        0\n",
       "Call_details          0\n",
       "Purpose               0\n",
       "Fraud                 0\n",
       "dtype: int64"
      ]
     },
     "execution_count": 11,
     "metadata": {},
     "output_type": "execute_result"
    }
   ],
   "source": [
    "claims.isnull().sum() #count of missing values"
   ]
  },
  {
   "cell_type": "markdown",
   "metadata": {},
   "source": [
    "### To perform our data analysis, let's create two new dataframes\n"
   ]
  },
  {
   "cell_type": "code",
   "execution_count": 12,
   "metadata": {},
   "outputs": [],
   "source": [
    "claims_bin = pd.DataFrame() # for discretised continuous variables\n",
    "claims_con = pd.DataFrame() # for continuous variables"
   ]
  },
  {
   "cell_type": "code",
   "execution_count": 13,
   "metadata": {},
   "outputs": [
    {
     "data": {
      "text/plain": [
       "Unnamed: 0            int64\n",
       "Region               object\n",
       "State                object\n",
       "Area                 object\n",
       "City                 object\n",
       "Consumer_profile     object\n",
       "Product_category     object\n",
       "Product_type         object\n",
       "AC_1001_Issue         int64\n",
       "AC_1002_Issue         int64\n",
       "AC_1003_Issue         int64\n",
       "TV_2001_Issue         int64\n",
       "TV_2002_Issue         int64\n",
       "TV_2003_Issue         int64\n",
       "Claim_Value         float64\n",
       "Service_Centre        int64\n",
       "Product_Age           int64\n",
       "Purchased_from       object\n",
       "Call_details        float64\n",
       "Purpose              object\n",
       "Fraud                 int64\n",
       "dtype: object"
      ]
     },
     "execution_count": 13,
     "metadata": {},
     "output_type": "execute_result"
    }
   ],
   "source": [
    "claims.dtypes #different types in datasets"
   ]
  },
  {
   "cell_type": "markdown",
   "metadata": {},
   "source": [
    "#### 1st column : Region"
   ]
  },
  {
   "cell_type": "code",
   "execution_count": 14,
   "metadata": {},
   "outputs": [
    {
     "data": {
      "text/plain": [
       "0"
      ]
     },
     "execution_count": 14,
     "metadata": {},
     "output_type": "execute_result"
    }
   ],
   "source": [
    "# How many missing values does Region have?\n",
    "claims.Region.isnull().sum() "
   ]
  },
  {
   "cell_type": "code",
   "execution_count": 15,
   "metadata": {},
   "outputs": [
    {
     "data": {
      "text/plain": [
       "South         1827\n",
       "North East    1241\n",
       "South East    1144\n",
       "West          1132\n",
       "East           816\n",
       "North          782\n",
       "South West     748\n",
       "North West     651\n",
       "Name: Region, dtype: int64"
      ]
     },
     "execution_count": 15,
     "metadata": {},
     "output_type": "execute_result"
    }
   ],
   "source": [
    "# unique value counts\n",
    "claims.Region.value_counts()"
   ]
  },
  {
   "cell_type": "code",
   "execution_count": 16,
   "metadata": {
    "scrolled": true
   },
   "outputs": [
    {
     "data": {
      "image/png": "[encoded data removed]",
      "text/plain": [
       "<Figure size 1440x504 with 1 Axes>"
      ]
     },
     "metadata": {
      "needs_background": "light"
     },
     "output_type": "display_data"
    }
   ],
   "source": [
    "#regions distribution \n",
    "fig = plt.figure(figsize=(20,7))\n",
    "sns.countplot(y='Region', data=claims);"
   ]
  },
  {
   "cell_type": "code",
   "execution_count": 17,
   "metadata": {},
   "outputs": [],
   "source": [
    "# adding this to subset dataframes\n",
    "claims_bin['Region'] = claims['Region']\n",
    "claims_con['Region'] = claims['Region']"
   ]
  },
  {
   "cell_type": "markdown",
   "metadata": {},
   "source": [
    "#### 2nd column : State"
   ]
  },
  {
   "cell_type": "code",
   "execution_count": 18,
   "metadata": {},
   "outputs": [
    {
     "data": {
      "text/plain": [
       "0"
      ]
     },
     "execution_count": 18,
     "metadata": {},
     "output_type": "execute_result"
    }
   ],
   "source": [
    "# How many missing values does State have?\n",
    "claims.State.isnull().sum()"
   ]
  },
  {
   "cell_type": "code",
   "execution_count": 19,
   "metadata": {},
   "outputs": [
    {
     "data": {
      "text/plain": [
       "Andhra Pradesh    1216\n",
       "Tamilnadu         1020\n",
       "Maharshtra         871\n",
       "Gujarat            748\n",
       "Kerala             730\n",
       "Karnataka          708\n",
       "Delhi              627\n",
       "Bihar              578\n",
       "Uttar Pradesh      381\n",
       "West Bengal        352\n",
       "Odisha             312\n",
       "Telengana          188\n",
       "Goa                169\n",
       "Tripura             99\n",
       "Assam               79\n",
       "Jharkhand           74\n",
       "HP                  53\n",
       "Rajasthan           53\n",
       "MP                  43\n",
       "Haryana             29\n",
       "J&K                 11\n",
       "Name: State, dtype: int64"
      ]
     },
     "execution_count": 19,
     "metadata": {},
     "output_type": "execute_result"
    }
   ],
   "source": [
    "#unique value count\n",
    "claims.State.value_counts()"
   ]
  },
  {
   "cell_type": "code",
   "execution_count": 20,
   "metadata": {},
   "outputs": [
    {
     "data": {
      "image/png": "[encoded data removed]",
      "text/plain": [
       "<Figure size 1440x504 with 1 Axes>"
      ]
     },
     "metadata": {
      "needs_background": "light"
     },
     "output_type": "display_data"
    }
   ],
   "source": [
    "#States distribution \n",
    "fig = plt.figure(figsize=(20,7))\n",
    "sns.countplot(y='State', data=claims);"
   ]
  },
  {
   "cell_type": "code",
   "execution_count": 21,
   "metadata": {},
   "outputs": [],
   "source": [
    "# adding this to subset dataframes\n",
    "claims_bin['State'] = claims['State']\n",
    "claims_con['State'] = claims['State']"
   ]
  },
  {
   "cell_type": "markdown",
   "metadata": {},
   "source": [
    "#### 3rd column : Area"
   ]
  },
  {
   "cell_type": "code",
   "execution_count": 22,
   "metadata": {},
   "outputs": [
    {
     "data": {
      "text/plain": [
       "0"
      ]
     },
     "execution_count": 22,
     "metadata": {},
     "output_type": "execute_result"
    }
   ],
   "source": [
    "# How many missing values does Area have?\n",
    "claims.Area.isnull().sum()"
   ]
  },
  {
   "cell_type": "code",
   "execution_count": 23,
   "metadata": {},
   "outputs": [
    {
     "data": {
      "text/plain": [
       "Urban    5319\n",
       "Rural    3022\n",
       "Name: Area, dtype: int64"
      ]
     },
     "execution_count": 23,
     "metadata": {},
     "output_type": "execute_result"
    }
   ],
   "source": [
    "#unique values count\n",
    "claims.Area.value_counts()"
   ]
  },
  {
   "cell_type": "code",
   "execution_count": 24,
   "metadata": {},
   "outputs": [
    {
     "data": {
      "image/png": "[encoded data removed]",
      "text/plain": [
       "<Figure size 1080x144 with 1 Axes>"
      ]
     },
     "metadata": {
      "needs_background": "light"
     },
     "output_type": "display_data"
    }
   ],
   "source": [
    "#States distribution \n",
    "fig = plt.figure(figsize=(15,2))\n",
    "sns.countplot(y='Area', data=claims);"
   ]
  },
  {
   "cell_type": "code",
   "execution_count": 25,
   "metadata": {},
   "outputs": [],
   "source": [
    "# adding this to subset dataframes\n",
    "claims_bin['Area'] = claims['Area']\n",
    "claims_bin['Area'] = np.where(claims_bin['Area'] == 'Urban', 1, 0) # change Area to 1 for Urban and 0 for Rural\n",
    "claims_con['Area'] = claims['Area']"
   ]
  },
  {
   "cell_type": "markdown",
   "metadata": {},
   "source": [
    "#### 4th column : City"
   ]
  },
  {
   "cell_type": "code",
   "execution_count": 26,
   "metadata": {},
   "outputs": [
    {
     "data": {
      "text/plain": [
       "0"
      ]
     },
     "execution_count": 26,
     "metadata": {},
     "output_type": "execute_result"
    }
   ],
   "source": [
    "# How many missing values does State have?\n",
    "claims.City.isnull().sum() "
   ]
  },
  {
   "cell_type": "code",
   "execution_count": 27,
   "metadata": {},
   "outputs": [
    {
     "data": {
      "text/plain": [
       "Chennai        1020\n",
       "Hyderabad       814\n",
       "Kochi           730\n",
       "Bangalore       708\n",
       "Mumbai          672\n",
       "New Delhi       491\n",
       "Vadodara        397\n",
       "Kolkata         352\n",
       "Ahmedabad       351\n",
       "Lucknow         344\n",
       "Purnea          323\n",
       "Bhubaneswar     312\n",
       "Vijayawada      288\n",
       "Patna           255\n",
       "Pune            199\n",
       "Hyderabad 1     188\n",
       "Panaji          169\n",
       "Delhi           136\n",
       "Vizag           114\n",
       "Agartala         99\n",
       "Guwhati          79\n",
       "Ranchi           74\n",
       "Jaipur           53\n",
       "Shimla           53\n",
       "Bhopal           43\n",
       "Meerut           37\n",
       "Chandigarh       29\n",
       "Srinagar         11\n",
       "Name: City, dtype: int64"
      ]
     },
     "execution_count": 27,
     "metadata": {},
     "output_type": "execute_result"
    }
   ],
   "source": [
    "# unique value count\n",
    "claims.City.value_counts()"
   ]
  },
  {
   "cell_type": "code",
   "execution_count": 28,
   "metadata": {},
   "outputs": [
    {
     "data": {
      "image/png": "[encoded data removed]",
      "text/plain": [
       "<Figure size 1440x504 with 1 Axes>"
      ]
     },
     "metadata": {
      "needs_background": "light"
     },
     "output_type": "display_data"
    }
   ],
   "source": [
    "#City distribution \n",
    "fig = plt.figure(figsize=(20,7))\n",
    "sns.countplot(y='City', data=claims);"
   ]
  },
  {
   "cell_type": "code",
   "execution_count": 29,
   "metadata": {},
   "outputs": [],
   "source": [
    "# adding this to subset dataframes\n",
    "claims_bin['City'] = claims['City']\n",
    "claims_con['City'] = claims['City']"
   ]
  },
  {
   "cell_type": "markdown",
   "metadata": {},
   "source": [
    "#### 5th column : Consumer_profile"
   ]
  },
  {
   "cell_type": "code",
   "execution_count": 30,
   "metadata": {},
   "outputs": [
    {
     "data": {
      "text/plain": [
       "0"
      ]
     },
     "execution_count": 30,
     "metadata": {},
     "output_type": "execute_result"
    }
   ],
   "source": [
    "# How many missing values does Consumer_profile have?\n",
    "claims.Consumer_profile.isnull().sum()"
   ]
  },
  {
   "cell_type": "code",
   "execution_count": 31,
   "metadata": {},
   "outputs": [
    {
     "data": {
      "text/plain": [
       "Personal    4973\n",
       "Business    3368\n",
       "Name: Consumer_profile, dtype: int64"
      ]
     },
     "execution_count": 31,
     "metadata": {},
     "output_type": "execute_result"
    }
   ],
   "source": [
    "#unique value count\n",
    "claims.Consumer_profile.value_counts()"
   ]
  },
  {
   "cell_type": "code",
   "execution_count": 32,
   "metadata": {},
   "outputs": [
    {
     "data": {
      "image/png": "[encoded data removed]",
      "text/plain": [
       "<Figure size 720x288 with 1 Axes>"
      ]
     },
     "metadata": {
      "needs_background": "light"
     },
     "output_type": "display_data"
    }
   ],
   "source": [
    "#Consumer_profile distribution \n",
    "fig = plt.figure(figsize=(10,4))\n",
    "sns.countplot(y='Consumer_profile', data=claims);"
   ]
  },
  {
   "cell_type": "code",
   "execution_count": 33,
   "metadata": {},
   "outputs": [],
   "source": [
    "# adding this to subset dataframes\n",
    "claims_bin['Consumer_profile'] = claims['Consumer_profile']\n",
    "claims_bin['Consumer_profile'] = np.where(claims_bin['Consumer_profile'] == 'Business', 1, 0) # change Consumer profile to 1 for Business and 0 for Personal\n",
    "claims_con['Consumer_profile'] = claims['Consumer_profile']"
   ]
  },
  {
   "cell_type": "markdown",
   "metadata": {},
   "source": [
    "#### 6th column : Product_category"
   ]
  },
  {
   "cell_type": "code",
   "execution_count": 34,
   "metadata": {},
   "outputs": [
    {
     "data": {
      "text/plain": [
       "0"
      ]
     },
     "execution_count": 34,
     "metadata": {},
     "output_type": "execute_result"
    }
   ],
   "source": [
    "# How many missing values does Product_category have?\n",
    "claims.Product_category.isnull().sum() "
   ]
  },
  {
   "cell_type": "code",
   "execution_count": 35,
   "metadata": {},
   "outputs": [
    {
     "data": {
      "text/plain": [
       "Entertainment    4561\n",
       "Household        3780\n",
       "Name: Product_category, dtype: int64"
      ]
     },
     "execution_count": 35,
     "metadata": {},
     "output_type": "execute_result"
    }
   ],
   "source": [
    "# unique value count\n",
    "claims.Product_category.value_counts()"
   ]
  },
  {
   "cell_type": "code",
   "execution_count": 36,
   "metadata": {},
   "outputs": [
    {
     "data": {
      "image/png": "[encoded data removed]",
      "text/plain": [
       "<Figure size 720x288 with 1 Axes>"
      ]
     },
     "metadata": {
      "needs_background": "light"
     },
     "output_type": "display_data"
    }
   ],
   "source": [
    "#Product_category distribution \n",
    "fig = plt.figure(figsize=(10,4))\n",
    "sns.countplot(y='Product_category', data=claims);"
   ]
  },
  {
   "cell_type": "code",
   "execution_count": 37,
   "metadata": {},
   "outputs": [],
   "source": [
    "# adding this to subset dataframes\n",
    "claims_bin['Product_category'] = claims['Product_category']\n",
    "claims_bin['Product_category'] = np.where(claims_bin['Product_category'] == 'Entertainment', 1, 0) # change Product_category to 1 for Entertainment and 0 for Household\n",
    "claims_con['Product_category'] = claims['Product_category']"
   ]
  },
  {
   "cell_type": "markdown",
   "metadata": {},
   "source": [
    "#### 7th column : Product_type"
   ]
  },
  {
   "cell_type": "code",
   "execution_count": 38,
   "metadata": {},
   "outputs": [
    {
     "data": {
      "text/plain": [
       "0"
      ]
     },
     "execution_count": 38,
     "metadata": {},
     "output_type": "execute_result"
    }
   ],
   "source": [
    "# How many missing values does Product_type have?\n",
    "claims.Product_type.isnull().sum()"
   ]
  },
  {
   "cell_type": "code",
   "execution_count": 39,
   "metadata": {},
   "outputs": [
    {
     "data": {
      "text/plain": [
       "TV    4561\n",
       "AC    3780\n",
       "Name: Product_type, dtype: int64"
      ]
     },
     "execution_count": 39,
     "metadata": {},
     "output_type": "execute_result"
    }
   ],
   "source": [
    "#unique value count\n",
    "claims.Product_type.value_counts()"
   ]
  },
  {
   "cell_type": "code",
   "execution_count": 40,
   "metadata": {},
   "outputs": [
    {
     "data": {
      "image/png": "[encoded data removed]",
      "text/plain": [
       "<Figure size 720x288 with 1 Axes>"
      ]
     },
     "metadata": {
      "needs_background": "light"
     },
     "output_type": "display_data"
    }
   ],
   "source": [
    "#Product_category distribution \n",
    "fig = plt.figure(figsize=(10,4))\n",
    "sns.countplot(y='Product_type', data=claims);"
   ]
  },
  {
   "cell_type": "code",
   "execution_count": 41,
   "metadata": {},
   "outputs": [],
   "source": [
    "# adding this to subset dataframes\n",
    "claims_bin['Product_type'] = claims['Product_type']\n",
    "claims_bin['Product_type'] = np.where(claims_bin['Product_type'] == 'TV', 1, 0) # change Product_type to 1 for TV and 0 for AC\n",
    "claims_con['Product_type'] = claims['Product_type']"
   ]
  },
  {
   "cell_type": "markdown",
   "metadata": {},
   "source": [
    "#### 8th column : AC_1001_Issue"
   ]
  },
  {
   "cell_type": "code",
   "execution_count": 42,
   "metadata": {},
   "outputs": [
    {
     "data": {
      "text/plain": [
       "0"
      ]
     },
     "execution_count": 42,
     "metadata": {},
     "output_type": "execute_result"
    }
   ],
   "source": [
    "# How many missing values does AC_1001_Issue have?\n",
    "claims.AC_1001_Issue.isnull().sum()"
   ]
  },
  {
   "cell_type": "code",
   "execution_count": 43,
   "metadata": {},
   "outputs": [
    {
     "data": {
      "text/plain": [
       "0    6647\n",
       "1    1145\n",
       "2     549\n",
       "Name: AC_1001_Issue, dtype: int64"
      ]
     },
     "execution_count": 43,
     "metadata": {},
     "output_type": "execute_result"
    }
   ],
   "source": [
    "claims.AC_1001_Issue.value_counts()"
   ]
  },
  {
   "cell_type": "code",
   "execution_count": 44,
   "metadata": {},
   "outputs": [
    {
     "data": {
      "image/png": "[encoded data removed]",
      "text/plain": [
       "<Figure size 720x144 with 1 Axes>"
      ]
     },
     "metadata": {
      "needs_background": "light"
     },
     "output_type": "display_data"
    }
   ],
   "source": [
    "#AC_1001_Issue distribution \n",
    "fig = plt.figure(figsize=(10,2))\n",
    "sns.countplot(y='AC_1001_Issue', data=claims);"
   ]
  },
  {
   "cell_type": "code",
   "execution_count": 45,
   "metadata": {},
   "outputs": [],
   "source": [
    "# adding this to subset dataframes\n",
    "claims_bin['AC_1001_Issue'] = claims['AC_1001_Issue']\n",
    "claims_con['AC_1001_Issue'] = claims['AC_1001_Issue']"
   ]
  },
  {
   "cell_type": "markdown",
   "metadata": {},
   "source": [
    "#### 9th column : AC_1002_Issue"
   ]
  },
  {
   "cell_type": "code",
   "execution_count": 46,
   "metadata": {},
   "outputs": [
    {
     "data": {
      "text/plain": [
       "0"
      ]
     },
     "execution_count": 46,
     "metadata": {},
     "output_type": "execute_result"
    }
   ],
   "source": [
    "# How many missing values does AC_1002_Issue have?\n",
    "claims.AC_1002_Issue.isnull().sum()"
   ]
  },
  {
   "cell_type": "code",
   "execution_count": 47,
   "metadata": {},
   "outputs": [
    {
     "data": {
      "text/plain": [
       "0    6395\n",
       "1    1385\n",
       "2     561\n",
       "Name: AC_1002_Issue, dtype: int64"
      ]
     },
     "execution_count": 47,
     "metadata": {},
     "output_type": "execute_result"
    }
   ],
   "source": [
    "#unique value count\n",
    "claims.AC_1002_Issue.value_counts()"
   ]
  },
  {
   "cell_type": "code",
   "execution_count": 48,
   "metadata": {},
   "outputs": [
    {
     "data": {
      "image/png": "[encoded data removed]",
      "text/plain": [
       "<Figure size 720x144 with 1 Axes>"
      ]
     },
     "metadata": {
      "needs_background": "light"
     },
     "output_type": "display_data"
    }
   ],
   "source": [
    "#AC_1002_Issue distribution \n",
    "fig = plt.figure(figsize=(10,2))\n",
    "sns.countplot(y='AC_1002_Issue', data=claims);"
   ]
  },
  {
   "cell_type": "code",
   "execution_count": 49,
   "metadata": {},
   "outputs": [],
   "source": [
    "# adding this to subset dataframes\n",
    "claims_bin['AC_1002_Issue'] = claims['AC_1002_Issue']\n",
    "claims_con['AC_1002_Issue'] = claims['AC_1002_Issue']"
   ]
  },
  {
   "cell_type": "markdown",
   "metadata": {},
   "source": [
    "#### 10th column : AC_1003_Issue"
   ]
  },
  {
   "cell_type": "code",
   "execution_count": 50,
   "metadata": {},
   "outputs": [
    {
     "data": {
      "text/plain": [
       "0"
      ]
     },
     "execution_count": 50,
     "metadata": {},
     "output_type": "execute_result"
    }
   ],
   "source": [
    "# How many missing values does AC_1003_Issue have?\n",
    "claims.AC_1003_Issue.isnull().sum()"
   ]
  },
  {
   "cell_type": "code",
   "execution_count": 51,
   "metadata": {},
   "outputs": [
    {
     "data": {
      "text/plain": [
       "0    7159\n",
       "1     779\n",
       "2     403\n",
       "Name: AC_1003_Issue, dtype: int64"
      ]
     },
     "execution_count": 51,
     "metadata": {},
     "output_type": "execute_result"
    }
   ],
   "source": [
    "#Unique value count\n",
    "claims.AC_1003_Issue.value_counts()"
   ]
  },
  {
   "cell_type": "code",
   "execution_count": 52,
   "metadata": {},
   "outputs": [
    {
     "data": {
      "image/png": "[encoded data removed]",
      "text/plain": [
       "<Figure size 720x144 with 1 Axes>"
      ]
     },
     "metadata": {
      "needs_background": "light"
     },
     "output_type": "display_data"
    }
   ],
   "source": [
    "#AC_1003_Issue distribution \n",
    "fig = plt.figure(figsize=(10,2))\n",
    "sns.countplot(y='AC_1003_Issue', data=claims);"
   ]
  },
  {
   "cell_type": "code",
   "execution_count": 53,
   "metadata": {},
   "outputs": [],
   "source": [
    "# adding this to subset dataframes\n",
    "claims_bin['AC_1003_Issue'] = claims['AC_1003_Issue']\n",
    "claims_con['AC_1003_Issue'] = claims['AC_1003_Issue']"
   ]
  },
  {
   "cell_type": "markdown",
   "metadata": {},
   "source": [
    "#### 11th column : TV_2001_Issue"
   ]
  },
  {
   "cell_type": "code",
   "execution_count": 54,
   "metadata": {},
   "outputs": [
    {
     "data": {
      "text/plain": [
       "0"
      ]
     },
     "execution_count": 54,
     "metadata": {},
     "output_type": "execute_result"
    }
   ],
   "source": [
    "# How many missing values does TV_2001_Issue have?\n",
    "claims.TV_2001_Issue.isnull().sum()"
   ]
  },
  {
   "cell_type": "code",
   "execution_count": 55,
   "metadata": {},
   "outputs": [
    {
     "data": {
      "text/plain": [
       "0    5871\n",
       "1    1985\n",
       "2     485\n",
       "Name: TV_2001_Issue, dtype: int64"
      ]
     },
     "execution_count": 55,
     "metadata": {},
     "output_type": "execute_result"
    }
   ],
   "source": [
    "# unique value count\n",
    "claims.TV_2001_Issue.value_counts()"
   ]
  },
  {
   "cell_type": "code",
   "execution_count": 56,
   "metadata": {},
   "outputs": [
    {
     "data": {
      "image/png": "[encoded data removed]",
      "text/plain": [
       "<Figure size 720x144 with 1 Axes>"
      ]
     },
     "metadata": {
      "needs_background": "light"
     },
     "output_type": "display_data"
    }
   ],
   "source": [
    "#TV_2001_Issue distribution \n",
    "fig = plt.figure(figsize=(10,2))\n",
    "sns.countplot(y='TV_2001_Issue', data=claims);"
   ]
  },
  {
   "cell_type": "code",
   "execution_count": 57,
   "metadata": {},
   "outputs": [],
   "source": [
    "# adding this to subset dataframes\n",
    "claims_bin['TV_2001_Issue'] = claims['TV_2001_Issue']\n",
    "claims_con['TV_2001_Issue'] = claims['TV_2001_Issue']"
   ]
  },
  {
   "cell_type": "markdown",
   "metadata": {},
   "source": [
    "#### 12th column : TV_2002_Issue"
   ]
  },
  {
   "cell_type": "code",
   "execution_count": 58,
   "metadata": {},
   "outputs": [
    {
     "data": {
      "text/plain": [
       "0"
      ]
     },
     "execution_count": 58,
     "metadata": {},
     "output_type": "execute_result"
    }
   ],
   "source": [
    "# How many missing values does TV_2002_Issue have?\n",
    "claims.TV_2002_Issue.isnull().sum()"
   ]
  },
  {
   "cell_type": "code",
   "execution_count": 59,
   "metadata": {},
   "outputs": [
    {
     "data": {
      "text/plain": [
       "0    5413\n",
       "1    2244\n",
       "2     684\n",
       "Name: TV_2002_Issue, dtype: int64"
      ]
     },
     "execution_count": 59,
     "metadata": {},
     "output_type": "execute_result"
    }
   ],
   "source": [
    "#unique value count\n",
    "claims.TV_2002_Issue.value_counts()"
   ]
  },
  {
   "cell_type": "code",
   "execution_count": 60,
   "metadata": {},
   "outputs": [
    {
     "data": {
      "image/png": "[encoded data removed]",
      "text/plain": [
       "<Figure size 720x144 with 1 Axes>"
      ]
     },
     "metadata": {
      "needs_background": "light"
     },
     "output_type": "display_data"
    }
   ],
   "source": [
    "#TV_2002_Issue distribution \n",
    "fig = plt.figure(figsize=(10,2))\n",
    "sns.countplot(y='TV_2002_Issue', data=claims);"
   ]
  },
  {
   "cell_type": "code",
   "execution_count": 61,
   "metadata": {},
   "outputs": [],
   "source": [
    "# adding this to subset dataframes\n",
    "claims_bin['TV_2002_Issue'] = claims['TV_2002_Issue']\n",
    "claims_con['TV_2002_Issue'] = claims['TV_2002_Issue']"
   ]
  },
  {
   "cell_type": "markdown",
   "metadata": {},
   "source": [
    "#### 13th column : TV_2003_Issue"
   ]
  },
  {
   "cell_type": "code",
   "execution_count": 62,
   "metadata": {},
   "outputs": [
    {
     "data": {
      "text/plain": [
       "0"
      ]
     },
     "execution_count": 62,
     "metadata": {},
     "output_type": "execute_result"
    }
   ],
   "source": [
    "# How many missing values does TV_2003_Issue have?\n",
    "claims.TV_2003_Issue.isnull().sum()"
   ]
  },
  {
   "cell_type": "code",
   "execution_count": 63,
   "metadata": {},
   "outputs": [
    {
     "data": {
      "text/plain": [
       "0    6245\n",
       "1    1721\n",
       "2     375\n",
       "Name: TV_2003_Issue, dtype: int64"
      ]
     },
     "execution_count": 63,
     "metadata": {},
     "output_type": "execute_result"
    }
   ],
   "source": [
    "#unique value count\n",
    "claims.TV_2003_Issue.value_counts()"
   ]
  },
  {
   "cell_type": "code",
   "execution_count": 64,
   "metadata": {},
   "outputs": [
    {
     "data": {
      "image/png": "[encoded data removed]",
      "text/plain": [
       "<Figure size 720x144 with 1 Axes>"
      ]
     },
     "metadata": {
      "needs_background": "light"
     },
     "output_type": "display_data"
    }
   ],
   "source": [
    "#TV_2003_Issue distribution \n",
    "fig = plt.figure(figsize=(10,2))\n",
    "sns.countplot(y='TV_2003_Issue', data=claims);"
   ]
  },
  {
   "cell_type": "code",
   "execution_count": 65,
   "metadata": {},
   "outputs": [],
   "source": [
    "# adding this to subset dataframes\n",
    "claims_bin['TV_2003_Issue'] = claims['TV_2003_Issue']\n",
    "claims_con['TV_2003_Issue'] = claims['TV_2003_Issue']"
   ]
  },
  {
   "cell_type": "markdown",
   "metadata": {},
   "source": [
    "#### 14th column : Claim_Value"
   ]
  },
  {
   "cell_type": "code",
   "execution_count": 66,
   "metadata": {},
   "outputs": [
    {
     "data": {
      "text/plain": [
       "240"
      ]
     },
     "execution_count": 66,
     "metadata": {},
     "output_type": "execute_result"
    }
   ],
   "source": [
    "# How many missing values does Claim_Value have?\n",
    "claims.Claim_Value.isnull().sum()"
   ]
  },
  {
   "cell_type": "code",
   "execution_count": 67,
   "metadata": {},
   "outputs": [
    {
     "data": {
      "text/plain": [
       "10000.0"
      ]
     },
     "execution_count": 67,
     "metadata": {},
     "output_type": "execute_result"
    }
   ],
   "source": [
    "claims[\"Claim_Value\"].median() "
   ]
  },
  {
   "cell_type": "code",
   "execution_count": 68,
   "metadata": {},
   "outputs": [],
   "source": [
    "#imputed NA values or missing values with median of claim_value variable\n",
    "claims[\"Claim_Value\"].fillna(10000,inplace=True)"
   ]
  },
  {
   "cell_type": "code",
   "execution_count": 69,
   "metadata": {},
   "outputs": [
    {
     "data": {
      "image/png": "[encoded data removed]",
      "text/plain": [
       "<Figure size 2160x5040 with 1 Axes>"
      ]
     },
     "metadata": {
      "needs_background": "light"
     },
     "output_type": "display_data"
    }
   ],
   "source": [
    "# How many different values of Claim_Value are there?\n",
    "fig = plt.figure(figsize=(30,70))\n",
    "sns.countplot(y=\"Claim_Value\", data=claims);"
   ]
  },
  {
   "cell_type": "code",
   "execution_count": 70,
   "metadata": {},
   "outputs": [
    {
     "name": "stdout",
     "output_type": "stream",
     "text": [
      "There are 105 unique values in Claim_Value.\n"
     ]
    }
   ],
   "source": [
    "# How many unique kinds of Claim_Value are there?\n",
    "print(\"There are {} unique values in Claim_Value.\".format(len(claims.Claim_Value.unique())))"
   ]
  },
  {
   "cell_type": "code",
   "execution_count": 71,
   "metadata": {},
   "outputs": [],
   "source": [
    "# Add Claim Value to sub dataframes\n",
    "claims_bin['Claim_Value'] = pd.cut(claims['Claim_Value'], bins=5) # discretised into 5 categories\n",
    "claims_con['Claim_Value'] = claims['Claim_Value'] "
   ]
  },
  {
   "cell_type": "code",
   "execution_count": 72,
   "metadata": {},
   "outputs": [
    {
     "data": {
      "text/plain": [
       "(-50.0, 10000.0]      4549\n",
       "(10000.0, 20000.0]    2297\n",
       "(20000.0, 30000.0]     762\n",
       "(40000.0, 50000.0]     721\n",
       "(30000.0, 40000.0]      12\n",
       "Name: Claim_Value, dtype: int64"
      ]
     },
     "execution_count": 72,
     "metadata": {},
     "output_type": "execute_result"
    }
   ],
   "source": [
    "# What do our Claim Value bins look like?\n",
    "claims_bin.Claim_Value.value_counts()"
   ]
  },
  {
   "cell_type": "markdown",
   "metadata": {},
   "source": [
    "#### 15th column : Service_Centre"
   ]
  },
  {
   "cell_type": "code",
   "execution_count": 73,
   "metadata": {},
   "outputs": [
    {
     "data": {
      "text/plain": [
       "0"
      ]
     },
     "execution_count": 73,
     "metadata": {},
     "output_type": "execute_result"
    }
   ],
   "source": [
    "# How many missing values does Service_Centre have?\n",
    "claims.Service_Centre.isnull().sum()"
   ]
  },
  {
   "cell_type": "code",
   "execution_count": 74,
   "metadata": {},
   "outputs": [
    {
     "data": {
      "text/plain": [
       "15    1954\n",
       "12    1726\n",
       "13    1627\n",
       "10    1386\n",
       "14    1239\n",
       "11     378\n",
       "16      31\n",
       "Name: Service_Centre, dtype: int64"
      ]
     },
     "execution_count": 74,
     "metadata": {},
     "output_type": "execute_result"
    }
   ],
   "source": [
    "#unique value count \n",
    "claims.Service_Centre.value_counts()"
   ]
  },
  {
   "cell_type": "code",
   "execution_count": 75,
   "metadata": {},
   "outputs": [
    {
     "data": {
      "image/png": "[encoded data removed]",
      "text/plain": [
       "<Figure size 720x144 with 1 Axes>"
      ]
     },
     "metadata": {
      "needs_background": "light"
     },
     "output_type": "display_data"
    }
   ],
   "source": [
    "#Service_centre distribution \n",
    "fig = plt.figure(figsize=(10,2))\n",
    "sns.countplot(y='Service_Centre', data=claims);"
   ]
  },
  {
   "cell_type": "code",
   "execution_count": 76,
   "metadata": {},
   "outputs": [],
   "source": [
    "# adding this to subset dataframes\n",
    "claims_bin['Service_Centre'] = claims['Service_Centre']\n",
    "claims_con['Service_Centre'] = claims['Service_Centre']"
   ]
  },
  {
   "cell_type": "markdown",
   "metadata": {},
   "source": [
    "#### 16th column : Product_Age"
   ]
  },
  {
   "cell_type": "code",
   "execution_count": 77,
   "metadata": {},
   "outputs": [
    {
     "data": {
      "text/plain": [
       "0"
      ]
     },
     "execution_count": 77,
     "metadata": {},
     "output_type": "execute_result"
    }
   ],
   "source": [
    "# How many missing values does Product_Age have?\n",
    "claims.Product_Age.isnull().sum()"
   ]
  },
  {
   "cell_type": "code",
   "execution_count": 78,
   "metadata": {},
   "outputs": [
    {
     "data": {
      "image/png": "[encoded data removed]",
      "text/plain": [
       "<Figure size 2160x5040 with 1 Axes>"
      ]
     },
     "metadata": {
      "needs_background": "light"
     },
     "output_type": "display_data"
    }
   ],
   "source": [
    "# How many different values of Product_Age are there?\n",
    "fig = plt.figure(figsize=(30,70))\n",
    "sns.countplot(y=\"Product_Age\", data=claims);"
   ]
  },
  {
   "cell_type": "code",
   "execution_count": 79,
   "metadata": {},
   "outputs": [
    {
     "name": "stdout",
     "output_type": "stream",
     "text": [
      "There are 188 unique values in Product_Age.\n"
     ]
    }
   ],
   "source": [
    "# How many unique kinds of Product_Age are there?\n",
    "print(\"There are {} unique values in Product_Age.\".format(len(claims.Product_Age.unique())))"
   ]
  },
  {
   "cell_type": "code",
   "execution_count": 80,
   "metadata": {},
   "outputs": [],
   "source": [
    "# Add Product_Age to sub dataframes\n",
    "claims_bin['Product_Age'] = pd.cut(claims['Product_Age'], bins=5) # discretised\n",
    "claims_con['Product_Age'] = claims['Product_Age'] "
   ]
  },
  {
   "cell_type": "code",
   "execution_count": 81,
   "metadata": {},
   "outputs": [
    {
     "data": {
      "text/plain": [
       "(2.012, 200.6]    5668\n",
       "(200.6, 398.2]    1539\n",
       "(398.2, 595.8]     458\n",
       "(793.4, 991.0]     353\n",
       "(595.8, 793.4]     323\n",
       "Name: Product_Age, dtype: int64"
      ]
     },
     "execution_count": 81,
     "metadata": {},
     "output_type": "execute_result"
    }
   ],
   "source": [
    "# What do our Product_Age bins look like?\n",
    "claims_bin.Product_Age.value_counts()"
   ]
  },
  {
   "cell_type": "markdown",
   "metadata": {},
   "source": [
    "#### 17th column : Purchased_from"
   ]
  },
  {
   "cell_type": "code",
   "execution_count": 82,
   "metadata": {},
   "outputs": [
    {
     "data": {
      "text/plain": [
       "0"
      ]
     },
     "execution_count": 82,
     "metadata": {},
     "output_type": "execute_result"
    }
   ],
   "source": [
    "# How many missing values does Purchased_from have?\n",
    "claims.Purchased_from.isnull().sum()"
   ]
  },
  {
   "cell_type": "code",
   "execution_count": 83,
   "metadata": {},
   "outputs": [
    {
     "data": {
      "text/plain": [
       "Dealer          3512\n",
       "Manufacturer    2977\n",
       "Internet        1852\n",
       "Name: Purchased_from, dtype: int64"
      ]
     },
     "execution_count": 83,
     "metadata": {},
     "output_type": "execute_result"
    }
   ],
   "source": [
    "#unique value count\n",
    "claims.Purchased_from.value_counts()"
   ]
  },
  {
   "cell_type": "code",
   "execution_count": 84,
   "metadata": {},
   "outputs": [
    {
     "data": {
      "image/png": "[encoded data removed]",
      "text/plain": [
       "<Figure size 1080x360 with 1 Axes>"
      ]
     },
     "metadata": {
      "needs_background": "light"
     },
     "output_type": "display_data"
    }
   ],
   "source": [
    "#Purchased_from distribution \n",
    "fig = plt.figure(figsize=(15,5))\n",
    "sns.countplot(y='Purchased_from', data=claims);"
   ]
  },
  {
   "cell_type": "code",
   "execution_count": 85,
   "metadata": {},
   "outputs": [],
   "source": [
    "# adding this to subset dataframes\n",
    "claims_bin['Purchased_from'] = claims['Purchased_from']\n",
    "claims_con['Purchased_from'] = claims['Purchased_from']"
   ]
  },
  {
   "cell_type": "markdown",
   "metadata": {},
   "source": [
    "#### 18th column : Call_details"
   ]
  },
  {
   "cell_type": "code",
   "execution_count": 86,
   "metadata": {},
   "outputs": [
    {
     "data": {
      "text/plain": [
       "0"
      ]
     },
     "execution_count": 86,
     "metadata": {},
     "output_type": "execute_result"
    }
   ],
   "source": [
    "# How many missing values does Call_details have?\n",
    "claims.Call_details.isnull().sum()"
   ]
  },
  {
   "cell_type": "code",
   "execution_count": 87,
   "metadata": {},
   "outputs": [
    {
     "data": {
      "image/png": "[encoded data removed]",
      "text/plain": [
       "<Figure size 2160x1080 with 1 Axes>"
      ]
     },
     "metadata": {
      "needs_background": "light"
     },
     "output_type": "display_data"
    }
   ],
   "source": [
    "# How many different values of Call_details are there?\n",
    "fig = plt.figure(figsize=(30,15))\n",
    "sns.countplot(y=\"Call_details\", data=claims);"
   ]
  },
  {
   "cell_type": "code",
   "execution_count": 88,
   "metadata": {},
   "outputs": [
    {
     "name": "stdout",
     "output_type": "stream",
     "text": [
      "There are 37 unique values in Call_details.\n"
     ]
    }
   ],
   "source": [
    "# How many unique kinds of Call_details are there?\n",
    "print(\"There are {} unique values in Call_details.\".format(len(claims.Call_details.unique())))"
   ]
  },
  {
   "cell_type": "code",
   "execution_count": 89,
   "metadata": {},
   "outputs": [],
   "source": [
    "# Add Call_details to sub dataframes\n",
    "claims_bin['Call_details'] = pd.cut(claims['Call_details'], bins=5) # discretised\n",
    "claims_con['Call_details'] = claims['Call_details'] "
   ]
  },
  {
   "cell_type": "code",
   "execution_count": 90,
   "metadata": {},
   "outputs": [
    {
     "data": {
      "text/plain": [
       "(0.47, 6.4]     4603\n",
       "(24.1, 30.0]    1779\n",
       "(6.4, 12.3]      892\n",
       "(18.2, 24.1]     713\n",
       "(12.3, 18.2]     354\n",
       "Name: Call_details, dtype: int64"
      ]
     },
     "execution_count": 90,
     "metadata": {},
     "output_type": "execute_result"
    }
   ],
   "source": [
    "# What do our Call_details bins look like?\n",
    "claims_bin.Call_details.value_counts()"
   ]
  },
  {
   "cell_type": "markdown",
   "metadata": {},
   "source": [
    "#### 19th column : Purpose"
   ]
  },
  {
   "cell_type": "code",
   "execution_count": 91,
   "metadata": {},
   "outputs": [
    {
     "data": {
      "text/plain": [
       "0"
      ]
     },
     "execution_count": 91,
     "metadata": {},
     "output_type": "execute_result"
    }
   ],
   "source": [
    "# How many missing values does Purpose have?\n",
    "claims.Purpose.isnull().sum()"
   ]
  },
  {
   "cell_type": "code",
   "execution_count": 92,
   "metadata": {},
   "outputs": [
    {
     "data": {
      "text/plain": [
       "Claim        3927\n",
       "Complaint    3527\n",
       "Other         887\n",
       "Name: Purpose, dtype: int64"
      ]
     },
     "execution_count": 92,
     "metadata": {},
     "output_type": "execute_result"
    }
   ],
   "source": [
    "#Unique value count\n",
    "claims.Purpose.value_counts()"
   ]
  },
  {
   "cell_type": "code",
   "execution_count": 93,
   "metadata": {},
   "outputs": [
    {
     "data": {
      "image/png": "[encoded data removed]",
      "text/plain": [
       "<Figure size 720x216 with 1 Axes>"
      ]
     },
     "metadata": {
      "needs_background": "light"
     },
     "output_type": "display_data"
    }
   ],
   "source": [
    "#purpose distribution \n",
    "fig = plt.figure(figsize=(10,3))\n",
    "sns.countplot(y='Purpose', data=claims);"
   ]
  },
  {
   "cell_type": "code",
   "execution_count": 94,
   "metadata": {},
   "outputs": [],
   "source": [
    "# adding this to subset dataframes\n",
    "claims_bin['Purpose'] = claims['Purpose']\n",
    "claims_con['Purpose'] = claims['Purpose']"
   ]
  },
  {
   "cell_type": "markdown",
   "metadata": {},
   "source": [
    "#### 20th column : Fraud"
   ]
  },
  {
   "cell_type": "code",
   "execution_count": 95,
   "metadata": {},
   "outputs": [
    {
     "data": {
      "image/png": "[encoded data removed]",
      "text/plain": [
       "<Figure size 720x216 with 1 Axes>"
      ]
     },
     "metadata": {
      "needs_background": "light"
     },
     "output_type": "display_data"
    }
   ],
   "source": [
    "# How many people fraudulent?\n",
    "fig = plt.figure(figsize=(10,3))\n",
    "sns.countplot(y='Fraud', data=claims);"
   ]
  },
  {
   "cell_type": "code",
   "execution_count": 96,
   "metadata": {},
   "outputs": [
    {
     "data": {
      "text/plain": [
       "0    7675\n",
       "1     666\n",
       "Name: Fraud, dtype: int64"
      ]
     },
     "execution_count": 96,
     "metadata": {},
     "output_type": "execute_result"
    }
   ],
   "source": [
    "# Count of fraud and genuine \n",
    "claims.Fraud.value_counts() #fraud claim= 1 & genuine claim= 0"
   ]
  },
  {
   "cell_type": "code",
   "execution_count": 97,
   "metadata": {},
   "outputs": [],
   "source": [
    "# adding this to subset dataframes\n",
    "claims_bin['Fraud'] = claims['Fraud']\n",
    "claims_con['Fraud'] = claims['Fraud']"
   ]
  },
  {
   "cell_type": "code",
   "execution_count": 98,
   "metadata": {},
   "outputs": [
    {
     "data": {
      "text/html": [
       "<div>\n",
       "<style scoped>\n",
       "    .dataframe tbody tr th:only-of-type {\n",
       "        vertical-align: middle;\n",
       "    }\n",
       "\n",
       "    .dataframe tbody tr th {\n",
       "        vertical-align: top;\n",
       "    }\n",
       "\n",
       "    .dataframe thead th {\n",
       "        text-align: right;\n",
       "    }\n",
       "</style>\n",
       "<table border=\"1\" class=\"dataframe\">\n",
       "  <thead>\n",
       "    <tr style=\"text-align: right;\">\n",
       "      <th></th>\n",
       "      <th>Region</th>\n",
       "      <th>State</th>\n",
       "      <th>Area</th>\n",
       "      <th>City</th>\n",
       "      <th>Consumer_profile</th>\n",
       "      <th>Product_category</th>\n",
       "      <th>Product_type</th>\n",
       "      <th>AC_1001_Issue</th>\n",
       "      <th>AC_1002_Issue</th>\n",
       "      <th>AC_1003_Issue</th>\n",
       "      <th>TV_2001_Issue</th>\n",
       "      <th>TV_2002_Issue</th>\n",
       "      <th>TV_2003_Issue</th>\n",
       "      <th>Claim_Value</th>\n",
       "      <th>Service_Centre</th>\n",
       "      <th>Product_Age</th>\n",
       "      <th>Purchased_from</th>\n",
       "      <th>Call_details</th>\n",
       "      <th>Purpose</th>\n",
       "      <th>Fraud</th>\n",
       "    </tr>\n",
       "  </thead>\n",
       "  <tbody>\n",
       "    <tr>\n",
       "      <th>0</th>\n",
       "      <td>North East</td>\n",
       "      <td>Assam</td>\n",
       "      <td>0</td>\n",
       "      <td>Guwhati</td>\n",
       "      <td>0</td>\n",
       "      <td>0</td>\n",
       "      <td>0</td>\n",
       "      <td>0</td>\n",
       "      <td>1</td>\n",
       "      <td>2</td>\n",
       "      <td>0</td>\n",
       "      <td>0</td>\n",
       "      <td>0</td>\n",
       "      <td>(-50.0, 10000.0]</td>\n",
       "      <td>12</td>\n",
       "      <td>(200.6, 398.2]</td>\n",
       "      <td>Manufacturer</td>\n",
       "      <td>(24.1, 30.0]</td>\n",
       "      <td>Claim</td>\n",
       "      <td>0</td>\n",
       "    </tr>\n",
       "    <tr>\n",
       "      <th>1</th>\n",
       "      <td>East</td>\n",
       "      <td>Delhi</td>\n",
       "      <td>1</td>\n",
       "      <td>New Delhi</td>\n",
       "      <td>0</td>\n",
       "      <td>1</td>\n",
       "      <td>1</td>\n",
       "      <td>0</td>\n",
       "      <td>0</td>\n",
       "      <td>0</td>\n",
       "      <td>1</td>\n",
       "      <td>1</td>\n",
       "      <td>1</td>\n",
       "      <td>(20000.0, 30000.0]</td>\n",
       "      <td>13</td>\n",
       "      <td>(2.012, 200.6]</td>\n",
       "      <td>Dealer</td>\n",
       "      <td>(0.47, 6.4]</td>\n",
       "      <td>Complaint</td>\n",
       "      <td>0</td>\n",
       "    </tr>\n",
       "    <tr>\n",
       "      <th>2</th>\n",
       "      <td>West</td>\n",
       "      <td>Andhra Pradesh</td>\n",
       "      <td>0</td>\n",
       "      <td>Hyderabad</td>\n",
       "      <td>1</td>\n",
       "      <td>0</td>\n",
       "      <td>0</td>\n",
       "      <td>0</td>\n",
       "      <td>0</td>\n",
       "      <td>0</td>\n",
       "      <td>0</td>\n",
       "      <td>0</td>\n",
       "      <td>0</td>\n",
       "      <td>(-50.0, 10000.0]</td>\n",
       "      <td>12</td>\n",
       "      <td>(2.012, 200.6]</td>\n",
       "      <td>Dealer</td>\n",
       "      <td>(0.47, 6.4]</td>\n",
       "      <td>Claim</td>\n",
       "      <td>0</td>\n",
       "    </tr>\n",
       "    <tr>\n",
       "      <th>3</th>\n",
       "      <td>West</td>\n",
       "      <td>Gujarat</td>\n",
       "      <td>0</td>\n",
       "      <td>Ahmedabad</td>\n",
       "      <td>0</td>\n",
       "      <td>1</td>\n",
       "      <td>1</td>\n",
       "      <td>0</td>\n",
       "      <td>0</td>\n",
       "      <td>0</td>\n",
       "      <td>1</td>\n",
       "      <td>1</td>\n",
       "      <td>0</td>\n",
       "      <td>(-50.0, 10000.0]</td>\n",
       "      <td>10</td>\n",
       "      <td>(595.8, 793.4]</td>\n",
       "      <td>Dealer</td>\n",
       "      <td>(24.1, 30.0]</td>\n",
       "      <td>Other</td>\n",
       "      <td>0</td>\n",
       "    </tr>\n",
       "    <tr>\n",
       "      <th>4</th>\n",
       "      <td>South West</td>\n",
       "      <td>Kerala</td>\n",
       "      <td>0</td>\n",
       "      <td>Kochi</td>\n",
       "      <td>1</td>\n",
       "      <td>0</td>\n",
       "      <td>0</td>\n",
       "      <td>0</td>\n",
       "      <td>0</td>\n",
       "      <td>0</td>\n",
       "      <td>0</td>\n",
       "      <td>0</td>\n",
       "      <td>0</td>\n",
       "      <td>(10000.0, 20000.0]</td>\n",
       "      <td>13</td>\n",
       "      <td>(2.012, 200.6]</td>\n",
       "      <td>Manufacturer</td>\n",
       "      <td>(6.4, 12.3]</td>\n",
       "      <td>Claim</td>\n",
       "      <td>0</td>\n",
       "    </tr>\n",
       "  </tbody>\n",
       "</table>\n",
       "</div>"
      ],
      "text/plain": [
       "       Region           State  Area       City  Consumer_profile  \\\n",
       "0  North East           Assam     0    Guwhati                 0   \n",
       "1        East           Delhi     1  New Delhi                 0   \n",
       "2        West  Andhra Pradesh     0  Hyderabad                 1   \n",
       "3        West         Gujarat     0  Ahmedabad                 0   \n",
       "4  South West          Kerala     0      Kochi                 1   \n",
       "\n",
       "   Product_category  Product_type  AC_1001_Issue  AC_1002_Issue  \\\n",
       "0                 0             0              0              1   \n",
       "1                 1             1              0              0   \n",
       "2                 0             0              0              0   \n",
       "3                 1             1              0              0   \n",
       "4                 0             0              0              0   \n",
       "\n",
       "   AC_1003_Issue  TV_2001_Issue  TV_2002_Issue  TV_2003_Issue  \\\n",
       "0              2              0              0              0   \n",
       "1              0              1              1              1   \n",
       "2              0              0              0              0   \n",
       "3              0              1              1              0   \n",
       "4              0              0              0              0   \n",
       "\n",
       "          Claim_Value  Service_Centre     Product_Age Purchased_from  \\\n",
       "0    (-50.0, 10000.0]              12  (200.6, 398.2]   Manufacturer   \n",
       "1  (20000.0, 30000.0]              13  (2.012, 200.6]         Dealer   \n",
       "2    (-50.0, 10000.0]              12  (2.012, 200.6]         Dealer   \n",
       "3    (-50.0, 10000.0]              10  (595.8, 793.4]         Dealer   \n",
       "4  (10000.0, 20000.0]              13  (2.012, 200.6]   Manufacturer   \n",
       "\n",
       "   Call_details    Purpose  Fraud  \n",
       "0  (24.1, 30.0]      Claim      0  \n",
       "1   (0.47, 6.4]  Complaint      0  \n",
       "2   (0.47, 6.4]      Claim      0  \n",
       "3  (24.1, 30.0]      Other      0  \n",
       "4   (6.4, 12.3]      Claim      0  "
      ]
     },
     "execution_count": 98,
     "metadata": {},
     "output_type": "execute_result"
    }
   ],
   "source": [
    "claims_bin.head()"
   ]
  },
  {
   "cell_type": "markdown",
   "metadata": {},
   "source": [
    "## Feature scaling"
   ]
  },
  {
   "cell_type": "code",
   "execution_count": 99,
   "metadata": {},
   "outputs": [],
   "source": [
    "# One-hot encode binned variables\n",
    "one_hot_cols = claims_bin.columns.tolist()\n",
    "one_hot_cols.remove('Fraud')\n",
    "claims_bin_enc = pd.get_dummies(claims_bin, columns=one_hot_cols)"
   ]
  },
  {
   "cell_type": "code",
   "execution_count": 100,
   "metadata": {},
   "outputs": [
    {
     "data": {
      "text/html": [
       "<div>\n",
       "<style scoped>\n",
       "    .dataframe tbody tr th:only-of-type {\n",
       "        vertical-align: middle;\n",
       "    }\n",
       "\n",
       "    .dataframe tbody tr th {\n",
       "        vertical-align: top;\n",
       "    }\n",
       "\n",
       "    .dataframe thead th {\n",
       "        text-align: right;\n",
       "    }\n",
       "</style>\n",
       "<table border=\"1\" class=\"dataframe\">\n",
       "  <thead>\n",
       "    <tr style=\"text-align: right;\">\n",
       "      <th></th>\n",
       "      <th>Fraud</th>\n",
       "      <th>Region_East</th>\n",
       "      <th>Region_North</th>\n",
       "      <th>Region_North East</th>\n",
       "      <th>Region_North West</th>\n",
       "      <th>Region_South</th>\n",
       "      <th>Region_South East</th>\n",
       "      <th>Region_South West</th>\n",
       "      <th>Region_West</th>\n",
       "      <th>State_Andhra Pradesh</th>\n",
       "      <th>...</th>\n",
       "      <th>Purchased_from_Internet</th>\n",
       "      <th>Purchased_from_Manufacturer</th>\n",
       "      <th>Call_details_(0.47, 6.4]</th>\n",
       "      <th>Call_details_(6.4, 12.3]</th>\n",
       "      <th>Call_details_(12.3, 18.2]</th>\n",
       "      <th>Call_details_(18.2, 24.1]</th>\n",
       "      <th>Call_details_(24.1, 30.0]</th>\n",
       "      <th>Purpose_Claim</th>\n",
       "      <th>Purpose_Complaint</th>\n",
       "      <th>Purpose_Other</th>\n",
       "    </tr>\n",
       "  </thead>\n",
       "  <tbody>\n",
       "    <tr>\n",
       "      <th>0</th>\n",
       "      <td>0</td>\n",
       "      <td>0</td>\n",
       "      <td>0</td>\n",
       "      <td>1</td>\n",
       "      <td>0</td>\n",
       "      <td>0</td>\n",
       "      <td>0</td>\n",
       "      <td>0</td>\n",
       "      <td>0</td>\n",
       "      <td>0</td>\n",
       "      <td>...</td>\n",
       "      <td>0</td>\n",
       "      <td>1</td>\n",
       "      <td>0</td>\n",
       "      <td>0</td>\n",
       "      <td>0</td>\n",
       "      <td>0</td>\n",
       "      <td>1</td>\n",
       "      <td>1</td>\n",
       "      <td>0</td>\n",
       "      <td>0</td>\n",
       "    </tr>\n",
       "    <tr>\n",
       "      <th>1</th>\n",
       "      <td>0</td>\n",
       "      <td>1</td>\n",
       "      <td>0</td>\n",
       "      <td>0</td>\n",
       "      <td>0</td>\n",
       "      <td>0</td>\n",
       "      <td>0</td>\n",
       "      <td>0</td>\n",
       "      <td>0</td>\n",
       "      <td>0</td>\n",
       "      <td>...</td>\n",
       "      <td>0</td>\n",
       "      <td>0</td>\n",
       "      <td>1</td>\n",
       "      <td>0</td>\n",
       "      <td>0</td>\n",
       "      <td>0</td>\n",
       "      <td>0</td>\n",
       "      <td>0</td>\n",
       "      <td>1</td>\n",
       "      <td>0</td>\n",
       "    </tr>\n",
       "    <tr>\n",
       "      <th>2</th>\n",
       "      <td>0</td>\n",
       "      <td>0</td>\n",
       "      <td>0</td>\n",
       "      <td>0</td>\n",
       "      <td>0</td>\n",
       "      <td>0</td>\n",
       "      <td>0</td>\n",
       "      <td>0</td>\n",
       "      <td>1</td>\n",
       "      <td>1</td>\n",
       "      <td>...</td>\n",
       "      <td>0</td>\n",
       "      <td>0</td>\n",
       "      <td>1</td>\n",
       "      <td>0</td>\n",
       "      <td>0</td>\n",
       "      <td>0</td>\n",
       "      <td>0</td>\n",
       "      <td>1</td>\n",
       "      <td>0</td>\n",
       "      <td>0</td>\n",
       "    </tr>\n",
       "    <tr>\n",
       "      <th>3</th>\n",
       "      <td>0</td>\n",
       "      <td>0</td>\n",
       "      <td>0</td>\n",
       "      <td>0</td>\n",
       "      <td>0</td>\n",
       "      <td>0</td>\n",
       "      <td>0</td>\n",
       "      <td>0</td>\n",
       "      <td>1</td>\n",
       "      <td>0</td>\n",
       "      <td>...</td>\n",
       "      <td>0</td>\n",
       "      <td>0</td>\n",
       "      <td>0</td>\n",
       "      <td>0</td>\n",
       "      <td>0</td>\n",
       "      <td>0</td>\n",
       "      <td>1</td>\n",
       "      <td>0</td>\n",
       "      <td>0</td>\n",
       "      <td>1</td>\n",
       "    </tr>\n",
       "    <tr>\n",
       "      <th>4</th>\n",
       "      <td>0</td>\n",
       "      <td>0</td>\n",
       "      <td>0</td>\n",
       "      <td>0</td>\n",
       "      <td>0</td>\n",
       "      <td>0</td>\n",
       "      <td>0</td>\n",
       "      <td>1</td>\n",
       "      <td>0</td>\n",
       "      <td>0</td>\n",
       "      <td>...</td>\n",
       "      <td>0</td>\n",
       "      <td>1</td>\n",
       "      <td>0</td>\n",
       "      <td>1</td>\n",
       "      <td>0</td>\n",
       "      <td>0</td>\n",
       "      <td>0</td>\n",
       "      <td>1</td>\n",
       "      <td>0</td>\n",
       "      <td>0</td>\n",
       "    </tr>\n",
       "  </tbody>\n",
       "</table>\n",
       "<p>5 rows × 112 columns</p>\n",
       "</div>"
      ],
      "text/plain": [
       "   Fraud  Region_East  Region_North  Region_North East  Region_North West  \\\n",
       "0      0            0             0                  1                  0   \n",
       "1      0            1             0                  0                  0   \n",
       "2      0            0             0                  0                  0   \n",
       "3      0            0             0                  0                  0   \n",
       "4      0            0             0                  0                  0   \n",
       "\n",
       "   Region_South  Region_South East  Region_South West  Region_West  \\\n",
       "0             0                  0                  0            0   \n",
       "1             0                  0                  0            0   \n",
       "2             0                  0                  0            1   \n",
       "3             0                  0                  0            1   \n",
       "4             0                  0                  1            0   \n",
       "\n",
       "   State_Andhra Pradesh  ...  Purchased_from_Internet  \\\n",
       "0                     0  ...                        0   \n",
       "1                     0  ...                        0   \n",
       "2                     1  ...                        0   \n",
       "3                     0  ...                        0   \n",
       "4                     0  ...                        0   \n",
       "\n",
       "   Purchased_from_Manufacturer  Call_details_(0.47, 6.4]  \\\n",
       "0                            1                         0   \n",
       "1                            0                         1   \n",
       "2                            0                         1   \n",
       "3                            0                         0   \n",
       "4                            1                         0   \n",
       "\n",
       "   Call_details_(6.4, 12.3]  Call_details_(12.3, 18.2]  \\\n",
       "0                         0                          0   \n",
       "1                         0                          0   \n",
       "2                         0                          0   \n",
       "3                         0                          0   \n",
       "4                         1                          0   \n",
       "\n",
       "   Call_details_(18.2, 24.1]  Call_details_(24.1, 30.0]  Purpose_Claim  \\\n",
       "0                          0                          1              1   \n",
       "1                          0                          0              0   \n",
       "2                          0                          0              1   \n",
       "3                          0                          1              0   \n",
       "4                          0                          0              1   \n",
       "\n",
       "   Purpose_Complaint  Purpose_Other  \n",
       "0                  0              0  \n",
       "1                  1              0  \n",
       "2                  0              0  \n",
       "3                  0              1  \n",
       "4                  0              0  \n",
       "\n",
       "[5 rows x 112 columns]"
      ]
     },
     "execution_count": 100,
     "metadata": {},
     "output_type": "execute_result"
    }
   ],
   "source": [
    "claims_bin_enc.head()"
   ]
  },
  {
   "cell_type": "code",
   "execution_count": 101,
   "metadata": {},
   "outputs": [
    {
     "data": {
      "text/html": [
       "<div>\n",
       "<style scoped>\n",
       "    .dataframe tbody tr th:only-of-type {\n",
       "        vertical-align: middle;\n",
       "    }\n",
       "\n",
       "    .dataframe tbody tr th {\n",
       "        vertical-align: top;\n",
       "    }\n",
       "\n",
       "    .dataframe thead th {\n",
       "        text-align: right;\n",
       "    }\n",
       "</style>\n",
       "<table border=\"1\" class=\"dataframe\">\n",
       "  <thead>\n",
       "    <tr style=\"text-align: right;\">\n",
       "      <th></th>\n",
       "      <th>Region</th>\n",
       "      <th>State</th>\n",
       "      <th>Area</th>\n",
       "      <th>City</th>\n",
       "      <th>Consumer_profile</th>\n",
       "      <th>Product_category</th>\n",
       "      <th>Product_type</th>\n",
       "      <th>AC_1001_Issue</th>\n",
       "      <th>AC_1002_Issue</th>\n",
       "      <th>AC_1003_Issue</th>\n",
       "      <th>TV_2001_Issue</th>\n",
       "      <th>TV_2002_Issue</th>\n",
       "      <th>TV_2003_Issue</th>\n",
       "      <th>Claim_Value</th>\n",
       "      <th>Service_Centre</th>\n",
       "      <th>Product_Age</th>\n",
       "      <th>Purchased_from</th>\n",
       "      <th>Call_details</th>\n",
       "      <th>Purpose</th>\n",
       "      <th>Fraud</th>\n",
       "    </tr>\n",
       "  </thead>\n",
       "  <tbody>\n",
       "    <tr>\n",
       "      <th>0</th>\n",
       "      <td>North East</td>\n",
       "      <td>Assam</td>\n",
       "      <td>Rural</td>\n",
       "      <td>Guwhati</td>\n",
       "      <td>Personal</td>\n",
       "      <td>Household</td>\n",
       "      <td>AC</td>\n",
       "      <td>0</td>\n",
       "      <td>1</td>\n",
       "      <td>2</td>\n",
       "      <td>0</td>\n",
       "      <td>0</td>\n",
       "      <td>0</td>\n",
       "      <td>4474.0</td>\n",
       "      <td>12</td>\n",
       "      <td>202</td>\n",
       "      <td>Manufacturer</td>\n",
       "      <td>30.0</td>\n",
       "      <td>Claim</td>\n",
       "      <td>0</td>\n",
       "    </tr>\n",
       "    <tr>\n",
       "      <th>1</th>\n",
       "      <td>East</td>\n",
       "      <td>Delhi</td>\n",
       "      <td>Urban</td>\n",
       "      <td>New Delhi</td>\n",
       "      <td>Personal</td>\n",
       "      <td>Entertainment</td>\n",
       "      <td>TV</td>\n",
       "      <td>0</td>\n",
       "      <td>0</td>\n",
       "      <td>0</td>\n",
       "      <td>1</td>\n",
       "      <td>1</td>\n",
       "      <td>1</td>\n",
       "      <td>25000.0</td>\n",
       "      <td>13</td>\n",
       "      <td>60</td>\n",
       "      <td>Dealer</td>\n",
       "      <td>1.3</td>\n",
       "      <td>Complaint</td>\n",
       "      <td>0</td>\n",
       "    </tr>\n",
       "    <tr>\n",
       "      <th>2</th>\n",
       "      <td>West</td>\n",
       "      <td>Andhra Pradesh</td>\n",
       "      <td>Rural</td>\n",
       "      <td>Hyderabad</td>\n",
       "      <td>Business</td>\n",
       "      <td>Household</td>\n",
       "      <td>AC</td>\n",
       "      <td>0</td>\n",
       "      <td>0</td>\n",
       "      <td>0</td>\n",
       "      <td>0</td>\n",
       "      <td>0</td>\n",
       "      <td>0</td>\n",
       "      <td>10000.0</td>\n",
       "      <td>12</td>\n",
       "      <td>3</td>\n",
       "      <td>Dealer</td>\n",
       "      <td>2.5</td>\n",
       "      <td>Claim</td>\n",
       "      <td>0</td>\n",
       "    </tr>\n",
       "    <tr>\n",
       "      <th>3</th>\n",
       "      <td>West</td>\n",
       "      <td>Gujarat</td>\n",
       "      <td>Rural</td>\n",
       "      <td>Ahmedabad</td>\n",
       "      <td>Personal</td>\n",
       "      <td>Entertainment</td>\n",
       "      <td>TV</td>\n",
       "      <td>0</td>\n",
       "      <td>0</td>\n",
       "      <td>0</td>\n",
       "      <td>1</td>\n",
       "      <td>1</td>\n",
       "      <td>0</td>\n",
       "      <td>4216.0</td>\n",
       "      <td>10</td>\n",
       "      <td>672</td>\n",
       "      <td>Dealer</td>\n",
       "      <td>25.0</td>\n",
       "      <td>Other</td>\n",
       "      <td>0</td>\n",
       "    </tr>\n",
       "    <tr>\n",
       "      <th>4</th>\n",
       "      <td>South West</td>\n",
       "      <td>Kerala</td>\n",
       "      <td>Rural</td>\n",
       "      <td>Kochi</td>\n",
       "      <td>Business</td>\n",
       "      <td>Household</td>\n",
       "      <td>AC</td>\n",
       "      <td>0</td>\n",
       "      <td>0</td>\n",
       "      <td>0</td>\n",
       "      <td>0</td>\n",
       "      <td>0</td>\n",
       "      <td>0</td>\n",
       "      <td>20000.0</td>\n",
       "      <td>13</td>\n",
       "      <td>3</td>\n",
       "      <td>Manufacturer</td>\n",
       "      <td>6.5</td>\n",
       "      <td>Claim</td>\n",
       "      <td>0</td>\n",
       "    </tr>\n",
       "  </tbody>\n",
       "</table>\n",
       "</div>"
      ],
      "text/plain": [
       "       Region           State   Area       City Consumer_profile  \\\n",
       "0  North East           Assam  Rural    Guwhati         Personal   \n",
       "1        East           Delhi  Urban  New Delhi         Personal   \n",
       "2        West  Andhra Pradesh  Rural  Hyderabad         Business   \n",
       "3        West         Gujarat  Rural  Ahmedabad         Personal   \n",
       "4  South West          Kerala  Rural      Kochi         Business   \n",
       "\n",
       "  Product_category Product_type  AC_1001_Issue  AC_1002_Issue  AC_1003_Issue  \\\n",
       "0        Household           AC              0              1              2   \n",
       "1    Entertainment           TV              0              0              0   \n",
       "2        Household           AC              0              0              0   \n",
       "3    Entertainment           TV              0              0              0   \n",
       "4        Household           AC              0              0              0   \n",
       "\n",
       "   TV_2001_Issue  TV_2002_Issue  TV_2003_Issue  Claim_Value  Service_Centre  \\\n",
       "0              0              0              0       4474.0              12   \n",
       "1              1              1              1      25000.0              13   \n",
       "2              0              0              0      10000.0              12   \n",
       "3              1              1              0       4216.0              10   \n",
       "4              0              0              0      20000.0              13   \n",
       "\n",
       "   Product_Age Purchased_from  Call_details    Purpose  Fraud  \n",
       "0          202   Manufacturer          30.0      Claim      0  \n",
       "1           60         Dealer           1.3  Complaint      0  \n",
       "2            3         Dealer           2.5      Claim      0  \n",
       "3          672         Dealer          25.0      Other      0  \n",
       "4            3   Manufacturer           6.5      Claim      0  "
      ]
     },
     "execution_count": 101,
     "metadata": {},
     "output_type": "execute_result"
    }
   ],
   "source": [
    "claims_con.head()"
   ]
  },
  {
   "cell_type": "code",
   "execution_count": 102,
   "metadata": {},
   "outputs": [],
   "source": [
    "# One hot encode the categorical columns individually\n",
    "claims_Region_one_hot = pd.get_dummies(claims_con['Region'],prefix='region')\n",
    "claims_State_one_hot = pd.get_dummies(claims_con['State'],prefix='state')\n",
    "claims_Area_one_hot = pd.get_dummies(claims_con['Area'],prefix='area')\n",
    "claims_City_one_hot = pd.get_dummies(claims_con['City'],prefix='city')\n",
    "claims_Conpro_one_hot = pd.get_dummies(claims_con['Consumer_profile'],prefix='consumer_profile')\n",
    "claims_Procat_one_hot = pd.get_dummies(claims_con['Product_category'],prefix='product_category')\n",
    "claims_Protyp_one_hot = pd.get_dummies(claims_con['Product_type'],prefix='product_type')\n",
    "claims_Servc_one_hot = pd.get_dummies(claims_con['Service_Centre'],prefix='serrvice_centre')\n",
    "claims_Purfrm_one_hot = pd.get_dummies(claims_con['Purchased_from'],prefix='purchased_from')\n",
    "claims_Purpose_one_hot = pd.get_dummies(claims_con['Purpose'],prefix='purpose')"
   ]
  },
  {
   "cell_type": "code",
   "execution_count": 103,
   "metadata": {},
   "outputs": [],
   "source": [
    "# Combine the one hot encoded columns with claims_con_enc\n",
    "claims_con_enc = pd.concat([claims_con, \n",
    "                        claims_Region_one_hot, \n",
    "                        claims_State_one_hot, \n",
    "                        claims_Area_one_hot, \n",
    "                        claims_City_one_hot,\n",
    "                        claims_Conpro_one_hot, \n",
    "                        claims_Procat_one_hot,\n",
    "                        claims_Protyp_one_hot, \n",
    "                        claims_Servc_one_hot,\n",
    "                        claims_Purfrm_one_hot, \n",
    "                        claims_Purpose_one_hot,], axis=1)"
   ]
  },
  {
   "cell_type": "code",
   "execution_count": 104,
   "metadata": {},
   "outputs": [],
   "source": [
    "# Drop the original categorical columns (because now they've been one hot encoded)\n",
    "claims_con_enc = claims_con_enc.drop(['Region', 'State', 'Area','City',\n",
    "                                      'Consumer_profile','Product_category',\n",
    "                                      'Product_type','Service_Centre',\n",
    "                                      'Purchased_from','Purpose'], axis=1)"
   ]
  },
  {
   "cell_type": "code",
   "execution_count": 105,
   "metadata": {},
   "outputs": [
    {
     "data": {
      "text/html": [
       "<div>\n",
       "<style scoped>\n",
       "    .dataframe tbody tr th:only-of-type {\n",
       "        vertical-align: middle;\n",
       "    }\n",
       "\n",
       "    .dataframe tbody tr th {\n",
       "        vertical-align: top;\n",
       "    }\n",
       "\n",
       "    .dataframe thead th {\n",
       "        text-align: right;\n",
       "    }\n",
       "</style>\n",
       "<table border=\"1\" class=\"dataframe\">\n",
       "  <thead>\n",
       "    <tr style=\"text-align: right;\">\n",
       "      <th></th>\n",
       "      <th>AC_1001_Issue</th>\n",
       "      <th>AC_1002_Issue</th>\n",
       "      <th>AC_1003_Issue</th>\n",
       "      <th>TV_2001_Issue</th>\n",
       "      <th>TV_2002_Issue</th>\n",
       "      <th>TV_2003_Issue</th>\n",
       "      <th>Claim_Value</th>\n",
       "      <th>Product_Age</th>\n",
       "      <th>Call_details</th>\n",
       "      <th>Fraud</th>\n",
       "      <th>...</th>\n",
       "      <th>serrvice_centre_13</th>\n",
       "      <th>serrvice_centre_14</th>\n",
       "      <th>serrvice_centre_15</th>\n",
       "      <th>serrvice_centre_16</th>\n",
       "      <th>purchased_from_Dealer</th>\n",
       "      <th>purchased_from_Internet</th>\n",
       "      <th>purchased_from_Manufacturer</th>\n",
       "      <th>purpose_Claim</th>\n",
       "      <th>purpose_Complaint</th>\n",
       "      <th>purpose_Other</th>\n",
       "    </tr>\n",
       "  </thead>\n",
       "  <tbody>\n",
       "    <tr>\n",
       "      <th>0</th>\n",
       "      <td>0</td>\n",
       "      <td>1</td>\n",
       "      <td>2</td>\n",
       "      <td>0</td>\n",
       "      <td>0</td>\n",
       "      <td>0</td>\n",
       "      <td>4474.0</td>\n",
       "      <td>202</td>\n",
       "      <td>30.0</td>\n",
       "      <td>0</td>\n",
       "      <td>...</td>\n",
       "      <td>0</td>\n",
       "      <td>0</td>\n",
       "      <td>0</td>\n",
       "      <td>0</td>\n",
       "      <td>0</td>\n",
       "      <td>0</td>\n",
       "      <td>1</td>\n",
       "      <td>1</td>\n",
       "      <td>0</td>\n",
       "      <td>0</td>\n",
       "    </tr>\n",
       "    <tr>\n",
       "      <th>1</th>\n",
       "      <td>0</td>\n",
       "      <td>0</td>\n",
       "      <td>0</td>\n",
       "      <td>1</td>\n",
       "      <td>1</td>\n",
       "      <td>1</td>\n",
       "      <td>25000.0</td>\n",
       "      <td>60</td>\n",
       "      <td>1.3</td>\n",
       "      <td>0</td>\n",
       "      <td>...</td>\n",
       "      <td>1</td>\n",
       "      <td>0</td>\n",
       "      <td>0</td>\n",
       "      <td>0</td>\n",
       "      <td>1</td>\n",
       "      <td>0</td>\n",
       "      <td>0</td>\n",
       "      <td>0</td>\n",
       "      <td>1</td>\n",
       "      <td>0</td>\n",
       "    </tr>\n",
       "    <tr>\n",
       "      <th>2</th>\n",
       "      <td>0</td>\n",
       "      <td>0</td>\n",
       "      <td>0</td>\n",
       "      <td>0</td>\n",
       "      <td>0</td>\n",
       "      <td>0</td>\n",
       "      <td>10000.0</td>\n",
       "      <td>3</td>\n",
       "      <td>2.5</td>\n",
       "      <td>0</td>\n",
       "      <td>...</td>\n",
       "      <td>0</td>\n",
       "      <td>0</td>\n",
       "      <td>0</td>\n",
       "      <td>0</td>\n",
       "      <td>1</td>\n",
       "      <td>0</td>\n",
       "      <td>0</td>\n",
       "      <td>1</td>\n",
       "      <td>0</td>\n",
       "      <td>0</td>\n",
       "    </tr>\n",
       "    <tr>\n",
       "      <th>3</th>\n",
       "      <td>0</td>\n",
       "      <td>0</td>\n",
       "      <td>0</td>\n",
       "      <td>1</td>\n",
       "      <td>1</td>\n",
       "      <td>0</td>\n",
       "      <td>4216.0</td>\n",
       "      <td>672</td>\n",
       "      <td>25.0</td>\n",
       "      <td>0</td>\n",
       "      <td>...</td>\n",
       "      <td>0</td>\n",
       "      <td>0</td>\n",
       "      <td>0</td>\n",
       "      <td>0</td>\n",
       "      <td>1</td>\n",
       "      <td>0</td>\n",
       "      <td>0</td>\n",
       "      <td>0</td>\n",
       "      <td>0</td>\n",
       "      <td>1</td>\n",
       "    </tr>\n",
       "    <tr>\n",
       "      <th>4</th>\n",
       "      <td>0</td>\n",
       "      <td>0</td>\n",
       "      <td>0</td>\n",
       "      <td>0</td>\n",
       "      <td>0</td>\n",
       "      <td>0</td>\n",
       "      <td>20000.0</td>\n",
       "      <td>3</td>\n",
       "      <td>6.5</td>\n",
       "      <td>0</td>\n",
       "      <td>...</td>\n",
       "      <td>1</td>\n",
       "      <td>0</td>\n",
       "      <td>0</td>\n",
       "      <td>0</td>\n",
       "      <td>0</td>\n",
       "      <td>0</td>\n",
       "      <td>1</td>\n",
       "      <td>1</td>\n",
       "      <td>0</td>\n",
       "      <td>0</td>\n",
       "    </tr>\n",
       "    <tr>\n",
       "      <th>5</th>\n",
       "      <td>0</td>\n",
       "      <td>0</td>\n",
       "      <td>0</td>\n",
       "      <td>0</td>\n",
       "      <td>1</td>\n",
       "      <td>1</td>\n",
       "      <td>4000.0</td>\n",
       "      <td>275</td>\n",
       "      <td>11.0</td>\n",
       "      <td>0</td>\n",
       "      <td>...</td>\n",
       "      <td>0</td>\n",
       "      <td>0</td>\n",
       "      <td>0</td>\n",
       "      <td>0</td>\n",
       "      <td>1</td>\n",
       "      <td>0</td>\n",
       "      <td>0</td>\n",
       "      <td>1</td>\n",
       "      <td>0</td>\n",
       "      <td>0</td>\n",
       "    </tr>\n",
       "    <tr>\n",
       "      <th>6</th>\n",
       "      <td>0</td>\n",
       "      <td>0</td>\n",
       "      <td>0</td>\n",
       "      <td>0</td>\n",
       "      <td>0</td>\n",
       "      <td>0</td>\n",
       "      <td>50000.0</td>\n",
       "      <td>10</td>\n",
       "      <td>1.6</td>\n",
       "      <td>0</td>\n",
       "      <td>...</td>\n",
       "      <td>0</td>\n",
       "      <td>0</td>\n",
       "      <td>0</td>\n",
       "      <td>0</td>\n",
       "      <td>0</td>\n",
       "      <td>0</td>\n",
       "      <td>1</td>\n",
       "      <td>1</td>\n",
       "      <td>0</td>\n",
       "      <td>0</td>\n",
       "    </tr>\n",
       "    <tr>\n",
       "      <th>7</th>\n",
       "      <td>0</td>\n",
       "      <td>2</td>\n",
       "      <td>1</td>\n",
       "      <td>0</td>\n",
       "      <td>0</td>\n",
       "      <td>0</td>\n",
       "      <td>13000.0</td>\n",
       "      <td>7</td>\n",
       "      <td>1.6</td>\n",
       "      <td>0</td>\n",
       "      <td>...</td>\n",
       "      <td>1</td>\n",
       "      <td>0</td>\n",
       "      <td>0</td>\n",
       "      <td>0</td>\n",
       "      <td>0</td>\n",
       "      <td>0</td>\n",
       "      <td>1</td>\n",
       "      <td>1</td>\n",
       "      <td>0</td>\n",
       "      <td>0</td>\n",
       "    </tr>\n",
       "    <tr>\n",
       "      <th>8</th>\n",
       "      <td>1</td>\n",
       "      <td>0</td>\n",
       "      <td>0</td>\n",
       "      <td>0</td>\n",
       "      <td>0</td>\n",
       "      <td>0</td>\n",
       "      <td>10000.0</td>\n",
       "      <td>6</td>\n",
       "      <td>1.4</td>\n",
       "      <td>0</td>\n",
       "      <td>...</td>\n",
       "      <td>1</td>\n",
       "      <td>0</td>\n",
       "      <td>0</td>\n",
       "      <td>0</td>\n",
       "      <td>1</td>\n",
       "      <td>0</td>\n",
       "      <td>0</td>\n",
       "      <td>0</td>\n",
       "      <td>1</td>\n",
       "      <td>0</td>\n",
       "    </tr>\n",
       "    <tr>\n",
       "      <th>9</th>\n",
       "      <td>0</td>\n",
       "      <td>0</td>\n",
       "      <td>0</td>\n",
       "      <td>0</td>\n",
       "      <td>0</td>\n",
       "      <td>0</td>\n",
       "      <td>25000.0</td>\n",
       "      <td>4</td>\n",
       "      <td>0.5</td>\n",
       "      <td>0</td>\n",
       "      <td>...</td>\n",
       "      <td>0</td>\n",
       "      <td>0</td>\n",
       "      <td>0</td>\n",
       "      <td>0</td>\n",
       "      <td>1</td>\n",
       "      <td>0</td>\n",
       "      <td>0</td>\n",
       "      <td>0</td>\n",
       "      <td>1</td>\n",
       "      <td>0</td>\n",
       "    </tr>\n",
       "    <tr>\n",
       "      <th>10</th>\n",
       "      <td>0</td>\n",
       "      <td>0</td>\n",
       "      <td>0</td>\n",
       "      <td>0</td>\n",
       "      <td>0</td>\n",
       "      <td>0</td>\n",
       "      <td>0.0</td>\n",
       "      <td>340</td>\n",
       "      <td>10.0</td>\n",
       "      <td>0</td>\n",
       "      <td>...</td>\n",
       "      <td>0</td>\n",
       "      <td>0</td>\n",
       "      <td>0</td>\n",
       "      <td>0</td>\n",
       "      <td>0</td>\n",
       "      <td>0</td>\n",
       "      <td>1</td>\n",
       "      <td>1</td>\n",
       "      <td>0</td>\n",
       "      <td>0</td>\n",
       "    </tr>\n",
       "    <tr>\n",
       "      <th>11</th>\n",
       "      <td>0</td>\n",
       "      <td>0</td>\n",
       "      <td>0</td>\n",
       "      <td>1</td>\n",
       "      <td>1</td>\n",
       "      <td>1</td>\n",
       "      <td>5465.0</td>\n",
       "      <td>776</td>\n",
       "      <td>24.0</td>\n",
       "      <td>0</td>\n",
       "      <td>...</td>\n",
       "      <td>0</td>\n",
       "      <td>0</td>\n",
       "      <td>0</td>\n",
       "      <td>0</td>\n",
       "      <td>0</td>\n",
       "      <td>1</td>\n",
       "      <td>0</td>\n",
       "      <td>1</td>\n",
       "      <td>0</td>\n",
       "      <td>0</td>\n",
       "    </tr>\n",
       "    <tr>\n",
       "      <th>12</th>\n",
       "      <td>0</td>\n",
       "      <td>0</td>\n",
       "      <td>0</td>\n",
       "      <td>1</td>\n",
       "      <td>1</td>\n",
       "      <td>0</td>\n",
       "      <td>4000.0</td>\n",
       "      <td>81</td>\n",
       "      <td>21.0</td>\n",
       "      <td>0</td>\n",
       "      <td>...</td>\n",
       "      <td>0</td>\n",
       "      <td>0</td>\n",
       "      <td>0</td>\n",
       "      <td>0</td>\n",
       "      <td>0</td>\n",
       "      <td>1</td>\n",
       "      <td>0</td>\n",
       "      <td>1</td>\n",
       "      <td>0</td>\n",
       "      <td>0</td>\n",
       "    </tr>\n",
       "    <tr>\n",
       "      <th>13</th>\n",
       "      <td>2</td>\n",
       "      <td>0</td>\n",
       "      <td>0</td>\n",
       "      <td>0</td>\n",
       "      <td>0</td>\n",
       "      <td>0</td>\n",
       "      <td>5000.0</td>\n",
       "      <td>271</td>\n",
       "      <td>2.0</td>\n",
       "      <td>0</td>\n",
       "      <td>...</td>\n",
       "      <td>0</td>\n",
       "      <td>0</td>\n",
       "      <td>0</td>\n",
       "      <td>0</td>\n",
       "      <td>1</td>\n",
       "      <td>0</td>\n",
       "      <td>0</td>\n",
       "      <td>0</td>\n",
       "      <td>1</td>\n",
       "      <td>0</td>\n",
       "    </tr>\n",
       "    <tr>\n",
       "      <th>14</th>\n",
       "      <td>0</td>\n",
       "      <td>0</td>\n",
       "      <td>0</td>\n",
       "      <td>1</td>\n",
       "      <td>1</td>\n",
       "      <td>1</td>\n",
       "      <td>4088.0</td>\n",
       "      <td>495</td>\n",
       "      <td>30.0</td>\n",
       "      <td>0</td>\n",
       "      <td>...</td>\n",
       "      <td>1</td>\n",
       "      <td>0</td>\n",
       "      <td>0</td>\n",
       "      <td>0</td>\n",
       "      <td>1</td>\n",
       "      <td>0</td>\n",
       "      <td>0</td>\n",
       "      <td>1</td>\n",
       "      <td>0</td>\n",
       "      <td>0</td>\n",
       "    </tr>\n",
       "    <tr>\n",
       "      <th>15</th>\n",
       "      <td>0</td>\n",
       "      <td>0</td>\n",
       "      <td>0</td>\n",
       "      <td>2</td>\n",
       "      <td>2</td>\n",
       "      <td>1</td>\n",
       "      <td>6022.0</td>\n",
       "      <td>112</td>\n",
       "      <td>14.0</td>\n",
       "      <td>0</td>\n",
       "      <td>...</td>\n",
       "      <td>0</td>\n",
       "      <td>0</td>\n",
       "      <td>0</td>\n",
       "      <td>0</td>\n",
       "      <td>0</td>\n",
       "      <td>0</td>\n",
       "      <td>1</td>\n",
       "      <td>1</td>\n",
       "      <td>0</td>\n",
       "      <td>0</td>\n",
       "    </tr>\n",
       "    <tr>\n",
       "      <th>16</th>\n",
       "      <td>0</td>\n",
       "      <td>0</td>\n",
       "      <td>0</td>\n",
       "      <td>0</td>\n",
       "      <td>0</td>\n",
       "      <td>0</td>\n",
       "      <td>50000.0</td>\n",
       "      <td>3</td>\n",
       "      <td>1.6</td>\n",
       "      <td>0</td>\n",
       "      <td>...</td>\n",
       "      <td>0</td>\n",
       "      <td>0</td>\n",
       "      <td>0</td>\n",
       "      <td>0</td>\n",
       "      <td>0</td>\n",
       "      <td>0</td>\n",
       "      <td>1</td>\n",
       "      <td>1</td>\n",
       "      <td>0</td>\n",
       "      <td>0</td>\n",
       "    </tr>\n",
       "    <tr>\n",
       "      <th>17</th>\n",
       "      <td>0</td>\n",
       "      <td>0</td>\n",
       "      <td>0</td>\n",
       "      <td>0</td>\n",
       "      <td>0</td>\n",
       "      <td>0</td>\n",
       "      <td>12000.0</td>\n",
       "      <td>9</td>\n",
       "      <td>2.6</td>\n",
       "      <td>0</td>\n",
       "      <td>...</td>\n",
       "      <td>1</td>\n",
       "      <td>0</td>\n",
       "      <td>0</td>\n",
       "      <td>0</td>\n",
       "      <td>0</td>\n",
       "      <td>1</td>\n",
       "      <td>0</td>\n",
       "      <td>0</td>\n",
       "      <td>1</td>\n",
       "      <td>0</td>\n",
       "    </tr>\n",
       "    <tr>\n",
       "      <th>18</th>\n",
       "      <td>0</td>\n",
       "      <td>1</td>\n",
       "      <td>0</td>\n",
       "      <td>0</td>\n",
       "      <td>0</td>\n",
       "      <td>0</td>\n",
       "      <td>5821.0</td>\n",
       "      <td>951</td>\n",
       "      <td>30.0</td>\n",
       "      <td>0</td>\n",
       "      <td>...</td>\n",
       "      <td>1</td>\n",
       "      <td>0</td>\n",
       "      <td>0</td>\n",
       "      <td>0</td>\n",
       "      <td>0</td>\n",
       "      <td>0</td>\n",
       "      <td>1</td>\n",
       "      <td>0</td>\n",
       "      <td>1</td>\n",
       "      <td>0</td>\n",
       "    </tr>\n",
       "    <tr>\n",
       "      <th>19</th>\n",
       "      <td>0</td>\n",
       "      <td>0</td>\n",
       "      <td>0</td>\n",
       "      <td>1</td>\n",
       "      <td>0</td>\n",
       "      <td>2</td>\n",
       "      <td>25000.0</td>\n",
       "      <td>10</td>\n",
       "      <td>1.5</td>\n",
       "      <td>0</td>\n",
       "      <td>...</td>\n",
       "      <td>0</td>\n",
       "      <td>0</td>\n",
       "      <td>1</td>\n",
       "      <td>0</td>\n",
       "      <td>1</td>\n",
       "      <td>0</td>\n",
       "      <td>0</td>\n",
       "      <td>0</td>\n",
       "      <td>1</td>\n",
       "      <td>0</td>\n",
       "    </tr>\n",
       "  </tbody>\n",
       "</table>\n",
       "<p>20 rows × 88 columns</p>\n",
       "</div>"
      ],
      "text/plain": [
       "    AC_1001_Issue  AC_1002_Issue  AC_1003_Issue  TV_2001_Issue  TV_2002_Issue  \\\n",
       "0               0              1              2              0              0   \n",
       "1               0              0              0              1              1   \n",
       "2               0              0              0              0              0   \n",
       "3               0              0              0              1              1   \n",
       "4               0              0              0              0              0   \n",
       "5               0              0              0              0              1   \n",
       "6               0              0              0              0              0   \n",
       "7               0              2              1              0              0   \n",
       "8               1              0              0              0              0   \n",
       "9               0              0              0              0              0   \n",
       "10              0              0              0              0              0   \n",
       "11              0              0              0              1              1   \n",
       "12              0              0              0              1              1   \n",
       "13              2              0              0              0              0   \n",
       "14              0              0              0              1              1   \n",
       "15              0              0              0              2              2   \n",
       "16              0              0              0              0              0   \n",
       "17              0              0              0              0              0   \n",
       "18              0              1              0              0              0   \n",
       "19              0              0              0              1              0   \n",
       "\n",
       "    TV_2003_Issue  Claim_Value  Product_Age  Call_details  Fraud  ...  \\\n",
       "0               0       4474.0          202          30.0      0  ...   \n",
       "1               1      25000.0           60           1.3      0  ...   \n",
       "2               0      10000.0            3           2.5      0  ...   \n",
       "3               0       4216.0          672          25.0      0  ...   \n",
       "4               0      20000.0            3           6.5      0  ...   \n",
       "5               1       4000.0          275          11.0      0  ...   \n",
       "6               0      50000.0           10           1.6      0  ...   \n",
       "7               0      13000.0            7           1.6      0  ...   \n",
       "8               0      10000.0            6           1.4      0  ...   \n",
       "9               0      25000.0            4           0.5      0  ...   \n",
       "10              0          0.0          340          10.0      0  ...   \n",
       "11              1       5465.0          776          24.0      0  ...   \n",
       "12              0       4000.0           81          21.0      0  ...   \n",
       "13              0       5000.0          271           2.0      0  ...   \n",
       "14              1       4088.0          495          30.0      0  ...   \n",
       "15              1       6022.0          112          14.0      0  ...   \n",
       "16              0      50000.0            3           1.6      0  ...   \n",
       "17              0      12000.0            9           2.6      0  ...   \n",
       "18              0       5821.0          951          30.0      0  ...   \n",
       "19              2      25000.0           10           1.5      0  ...   \n",
       "\n",
       "    serrvice_centre_13  serrvice_centre_14  serrvice_centre_15  \\\n",
       "0                    0                   0                   0   \n",
       "1                    1                   0                   0   \n",
       "2                    0                   0                   0   \n",
       "3                    0                   0                   0   \n",
       "4                    1                   0                   0   \n",
       "5                    0                   0                   0   \n",
       "6                    0                   0                   0   \n",
       "7                    1                   0                   0   \n",
       "8                    1                   0                   0   \n",
       "9                    0                   0                   0   \n",
       "10                   0                   0                   0   \n",
       "11                   0                   0                   0   \n",
       "12                   0                   0                   0   \n",
       "13                   0                   0                   0   \n",
       "14                   1                   0                   0   \n",
       "15                   0                   0                   0   \n",
       "16                   0                   0                   0   \n",
       "17                   1                   0                   0   \n",
       "18                   1                   0                   0   \n",
       "19                   0                   0                   1   \n",
       "\n",
       "    serrvice_centre_16  purchased_from_Dealer  purchased_from_Internet  \\\n",
       "0                    0                      0                        0   \n",
       "1                    0                      1                        0   \n",
       "2                    0                      1                        0   \n",
       "3                    0                      1                        0   \n",
       "4                    0                      0                        0   \n",
       "5                    0                      1                        0   \n",
       "6                    0                      0                        0   \n",
       "7                    0                      0                        0   \n",
       "8                    0                      1                        0   \n",
       "9                    0                      1                        0   \n",
       "10                   0                      0                        0   \n",
       "11                   0                      0                        1   \n",
       "12                   0                      0                        1   \n",
       "13                   0                      1                        0   \n",
       "14                   0                      1                        0   \n",
       "15                   0                      0                        0   \n",
       "16                   0                      0                        0   \n",
       "17                   0                      0                        1   \n",
       "18                   0                      0                        0   \n",
       "19                   0                      1                        0   \n",
       "\n",
       "    purchased_from_Manufacturer  purpose_Claim  purpose_Complaint  \\\n",
       "0                             1              1                  0   \n",
       "1                             0              0                  1   \n",
       "2                             0              1                  0   \n",
       "3                             0              0                  0   \n",
       "4                             1              1                  0   \n",
       "5                             0              1                  0   \n",
       "6                             1              1                  0   \n",
       "7                             1              1                  0   \n",
       "8                             0              0                  1   \n",
       "9                             0              0                  1   \n",
       "10                            1              1                  0   \n",
       "11                            0              1                  0   \n",
       "12                            0              1                  0   \n",
       "13                            0              0                  1   \n",
       "14                            0              1                  0   \n",
       "15                            1              1                  0   \n",
       "16                            1              1                  0   \n",
       "17                            0              0                  1   \n",
       "18                            1              0                  1   \n",
       "19                            0              0                  1   \n",
       "\n",
       "    purpose_Other  \n",
       "0               0  \n",
       "1               0  \n",
       "2               0  \n",
       "3               1  \n",
       "4               0  \n",
       "5               0  \n",
       "6               0  \n",
       "7               0  \n",
       "8               0  \n",
       "9               0  \n",
       "10              0  \n",
       "11              0  \n",
       "12              0  \n",
       "13              0  \n",
       "14              0  \n",
       "15              0  \n",
       "16              0  \n",
       "17              0  \n",
       "18              0  \n",
       "19              0  \n",
       "\n",
       "[20 rows x 88 columns]"
      ]
     },
     "execution_count": 105,
     "metadata": {},
     "output_type": "execute_result"
    }
   ],
   "source": [
    "# Let's look at claims_con_enc\n",
    "claims_con_enc.head(20)"
   ]
  },
  {
   "cell_type": "code",
   "execution_count": 106,
   "metadata": {},
   "outputs": [
    {
     "data": {
      "text/html": [
       "<div>\n",
       "<style scoped>\n",
       "    .dataframe tbody tr th:only-of-type {\n",
       "        vertical-align: middle;\n",
       "    }\n",
       "\n",
       "    .dataframe tbody tr th {\n",
       "        vertical-align: top;\n",
       "    }\n",
       "\n",
       "    .dataframe thead th {\n",
       "        text-align: right;\n",
       "    }\n",
       "</style>\n",
       "<table border=\"1\" class=\"dataframe\">\n",
       "  <thead>\n",
       "    <tr style=\"text-align: right;\">\n",
       "      <th></th>\n",
       "      <th>AC_1001_Issue</th>\n",
       "      <th>AC_1002_Issue</th>\n",
       "      <th>AC_1003_Issue</th>\n",
       "      <th>TV_2001_Issue</th>\n",
       "      <th>TV_2002_Issue</th>\n",
       "      <th>TV_2003_Issue</th>\n",
       "      <th>Claim_Value</th>\n",
       "      <th>Product_Age</th>\n",
       "      <th>Call_details</th>\n",
       "      <th>Fraud</th>\n",
       "      <th>...</th>\n",
       "      <th>serrvice_centre_13</th>\n",
       "      <th>serrvice_centre_14</th>\n",
       "      <th>serrvice_centre_15</th>\n",
       "      <th>serrvice_centre_16</th>\n",
       "      <th>purchased_from_Dealer</th>\n",
       "      <th>purchased_from_Internet</th>\n",
       "      <th>purchased_from_Manufacturer</th>\n",
       "      <th>purpose_Claim</th>\n",
       "      <th>purpose_Complaint</th>\n",
       "      <th>purpose_Other</th>\n",
       "    </tr>\n",
       "  </thead>\n",
       "  <tbody>\n",
       "    <tr>\n",
       "      <th>0</th>\n",
       "      <td>0</td>\n",
       "      <td>1</td>\n",
       "      <td>2</td>\n",
       "      <td>0</td>\n",
       "      <td>0</td>\n",
       "      <td>0</td>\n",
       "      <td>4474.0</td>\n",
       "      <td>202</td>\n",
       "      <td>30.0</td>\n",
       "      <td>0</td>\n",
       "      <td>...</td>\n",
       "      <td>0</td>\n",
       "      <td>0</td>\n",
       "      <td>0</td>\n",
       "      <td>0</td>\n",
       "      <td>0</td>\n",
       "      <td>0</td>\n",
       "      <td>1</td>\n",
       "      <td>1</td>\n",
       "      <td>0</td>\n",
       "      <td>0</td>\n",
       "    </tr>\n",
       "    <tr>\n",
       "      <th>1</th>\n",
       "      <td>0</td>\n",
       "      <td>0</td>\n",
       "      <td>0</td>\n",
       "      <td>1</td>\n",
       "      <td>1</td>\n",
       "      <td>1</td>\n",
       "      <td>25000.0</td>\n",
       "      <td>60</td>\n",
       "      <td>1.3</td>\n",
       "      <td>0</td>\n",
       "      <td>...</td>\n",
       "      <td>1</td>\n",
       "      <td>0</td>\n",
       "      <td>0</td>\n",
       "      <td>0</td>\n",
       "      <td>1</td>\n",
       "      <td>0</td>\n",
       "      <td>0</td>\n",
       "      <td>0</td>\n",
       "      <td>1</td>\n",
       "      <td>0</td>\n",
       "    </tr>\n",
       "    <tr>\n",
       "      <th>2</th>\n",
       "      <td>0</td>\n",
       "      <td>0</td>\n",
       "      <td>0</td>\n",
       "      <td>0</td>\n",
       "      <td>0</td>\n",
       "      <td>0</td>\n",
       "      <td>10000.0</td>\n",
       "      <td>3</td>\n",
       "      <td>2.5</td>\n",
       "      <td>0</td>\n",
       "      <td>...</td>\n",
       "      <td>0</td>\n",
       "      <td>0</td>\n",
       "      <td>0</td>\n",
       "      <td>0</td>\n",
       "      <td>1</td>\n",
       "      <td>0</td>\n",
       "      <td>0</td>\n",
       "      <td>1</td>\n",
       "      <td>0</td>\n",
       "      <td>0</td>\n",
       "    </tr>\n",
       "    <tr>\n",
       "      <th>3</th>\n",
       "      <td>0</td>\n",
       "      <td>0</td>\n",
       "      <td>0</td>\n",
       "      <td>1</td>\n",
       "      <td>1</td>\n",
       "      <td>0</td>\n",
       "      <td>4216.0</td>\n",
       "      <td>672</td>\n",
       "      <td>25.0</td>\n",
       "      <td>0</td>\n",
       "      <td>...</td>\n",
       "      <td>0</td>\n",
       "      <td>0</td>\n",
       "      <td>0</td>\n",
       "      <td>0</td>\n",
       "      <td>1</td>\n",
       "      <td>0</td>\n",
       "      <td>0</td>\n",
       "      <td>0</td>\n",
       "      <td>0</td>\n",
       "      <td>1</td>\n",
       "    </tr>\n",
       "    <tr>\n",
       "      <th>4</th>\n",
       "      <td>0</td>\n",
       "      <td>0</td>\n",
       "      <td>0</td>\n",
       "      <td>0</td>\n",
       "      <td>0</td>\n",
       "      <td>0</td>\n",
       "      <td>20000.0</td>\n",
       "      <td>3</td>\n",
       "      <td>6.5</td>\n",
       "      <td>0</td>\n",
       "      <td>...</td>\n",
       "      <td>1</td>\n",
       "      <td>0</td>\n",
       "      <td>0</td>\n",
       "      <td>0</td>\n",
       "      <td>0</td>\n",
       "      <td>0</td>\n",
       "      <td>1</td>\n",
       "      <td>1</td>\n",
       "      <td>0</td>\n",
       "      <td>0</td>\n",
       "    </tr>\n",
       "  </tbody>\n",
       "</table>\n",
       "<p>5 rows × 88 columns</p>\n",
       "</div>"
      ],
      "text/plain": [
       "   AC_1001_Issue  AC_1002_Issue  AC_1003_Issue  TV_2001_Issue  TV_2002_Issue  \\\n",
       "0              0              1              2              0              0   \n",
       "1              0              0              0              1              1   \n",
       "2              0              0              0              0              0   \n",
       "3              0              0              0              1              1   \n",
       "4              0              0              0              0              0   \n",
       "\n",
       "   TV_2003_Issue  Claim_Value  Product_Age  Call_details  Fraud  ...  \\\n",
       "0              0       4474.0          202          30.0      0  ...   \n",
       "1              1      25000.0           60           1.3      0  ...   \n",
       "2              0      10000.0            3           2.5      0  ...   \n",
       "3              0       4216.0          672          25.0      0  ...   \n",
       "4              0      20000.0            3           6.5      0  ...   \n",
       "\n",
       "   serrvice_centre_13  serrvice_centre_14  serrvice_centre_15  \\\n",
       "0                   0                   0                   0   \n",
       "1                   1                   0                   0   \n",
       "2                   0                   0                   0   \n",
       "3                   0                   0                   0   \n",
       "4                   1                   0                   0   \n",
       "\n",
       "   serrvice_centre_16  purchased_from_Dealer  purchased_from_Internet  \\\n",
       "0                   0                      0                        0   \n",
       "1                   0                      1                        0   \n",
       "2                   0                      1                        0   \n",
       "3                   0                      1                        0   \n",
       "4                   0                      0                        0   \n",
       "\n",
       "   purchased_from_Manufacturer  purpose_Claim  purpose_Complaint  \\\n",
       "0                            1              1                  0   \n",
       "1                            0              0                  1   \n",
       "2                            0              1                  0   \n",
       "3                            0              0                  0   \n",
       "4                            1              1                  0   \n",
       "\n",
       "   purpose_Other  \n",
       "0              0  \n",
       "1              0  \n",
       "2              0  \n",
       "3              1  \n",
       "4              0  \n",
       "\n",
       "[5 rows x 88 columns]"
      ]
     },
     "execution_count": 106,
     "metadata": {},
     "output_type": "execute_result"
    }
   ],
   "source": [
    "# Seclect the dataframe we want to use first for predictions\n",
    "selected_claims = claims_con_enc\n",
    "selected_claims.head()"
   ]
  },
  {
   "cell_type": "markdown",
   "metadata": {},
   "source": [
    "### Balancing Data"
   ]
  },
  {
   "cell_type": "code",
   "execution_count": 107,
   "metadata": {},
   "outputs": [
    {
     "data": {
      "text/plain": [
       "((15350, 87), (15350,))"
      ]
     },
     "execution_count": 107,
     "metadata": {},
     "output_type": "execute_result"
    }
   ],
   "source": [
    "x_sm = pd.DataFrame.copy(selected_claims)\n",
    "y_sm = x_sm.pop('Fraud')\n",
    "sm = SMOTE(random_state =101)\n",
    "x_train, y_train = sm.fit_sample(x_sm,y_sm)\n",
    "x_train.shape, y_train.shape"
   ]
  },
  {
   "cell_type": "markdown",
   "metadata": {},
   "source": [
    "#### Converting array to Data Frame"
   ]
  },
  {
   "cell_type": "code",
   "execution_count": 108,
   "metadata": {},
   "outputs": [],
   "source": [
    "x_train = pd.DataFrame(x_train)\n",
    "y_train = pd.DataFrame(y_train)"
   ]
  },
  {
   "cell_type": "markdown",
   "metadata": {},
   "source": [
    "### Loading Test Data"
   ]
  },
  {
   "cell_type": "code",
   "execution_count": 109,
   "metadata": {},
   "outputs": [],
   "source": [
    "test = pd.read_csv(\"test_1.csv\")"
   ]
  },
  {
   "cell_type": "code",
   "execution_count": 110,
   "metadata": {},
   "outputs": [
    {
     "data": {
      "text/html": [
       "<div>\n",
       "<style scoped>\n",
       "    .dataframe tbody tr th:only-of-type {\n",
       "        vertical-align: middle;\n",
       "    }\n",
       "\n",
       "    .dataframe tbody tr th {\n",
       "        vertical-align: top;\n",
       "    }\n",
       "\n",
       "    .dataframe thead th {\n",
       "        text-align: right;\n",
       "    }\n",
       "</style>\n",
       "<table border=\"1\" class=\"dataframe\">\n",
       "  <thead>\n",
       "    <tr style=\"text-align: right;\">\n",
       "      <th></th>\n",
       "      <th>Unnamed: 0</th>\n",
       "      <th>Region</th>\n",
       "      <th>State</th>\n",
       "      <th>Area</th>\n",
       "      <th>City</th>\n",
       "      <th>Consumer_profile</th>\n",
       "      <th>Product_category</th>\n",
       "      <th>Product_type</th>\n",
       "      <th>AC_1001_Issue</th>\n",
       "      <th>AC_1002_Issue</th>\n",
       "      <th>AC_1003_Issue</th>\n",
       "      <th>TV_2001_Issue</th>\n",
       "      <th>TV_2002_Issue</th>\n",
       "      <th>TV_2003_Issue</th>\n",
       "      <th>Claim_Value</th>\n",
       "      <th>Service_Centre</th>\n",
       "      <th>Product_Age</th>\n",
       "      <th>Purchased_from</th>\n",
       "      <th>Call_details</th>\n",
       "      <th>Purpose</th>\n",
       "    </tr>\n",
       "  </thead>\n",
       "  <tbody>\n",
       "    <tr>\n",
       "      <th>0</th>\n",
       "      <td>775</td>\n",
       "      <td>South West</td>\n",
       "      <td>Andhra Pradesh</td>\n",
       "      <td>Urban</td>\n",
       "      <td>Hyderabad</td>\n",
       "      <td>Business</td>\n",
       "      <td>Entertainment</td>\n",
       "      <td>TV</td>\n",
       "      <td>0</td>\n",
       "      <td>0</td>\n",
       "      <td>0</td>\n",
       "      <td>1</td>\n",
       "      <td>1</td>\n",
       "      <td>1</td>\n",
       "      <td>10000.0</td>\n",
       "      <td>13</td>\n",
       "      <td>5</td>\n",
       "      <td>Dealer</td>\n",
       "      <td>2.6</td>\n",
       "      <td>Claim</td>\n",
       "    </tr>\n",
       "    <tr>\n",
       "      <th>1</th>\n",
       "      <td>3130</td>\n",
       "      <td>South West</td>\n",
       "      <td>Andhra Pradesh</td>\n",
       "      <td>Urban</td>\n",
       "      <td>Hyderabad</td>\n",
       "      <td>Business</td>\n",
       "      <td>Entertainment</td>\n",
       "      <td>TV</td>\n",
       "      <td>0</td>\n",
       "      <td>0</td>\n",
       "      <td>0</td>\n",
       "      <td>1</td>\n",
       "      <td>1</td>\n",
       "      <td>1</td>\n",
       "      <td>20000.0</td>\n",
       "      <td>13</td>\n",
       "      <td>14</td>\n",
       "      <td>Manufacturer</td>\n",
       "      <td>1.4</td>\n",
       "      <td>Claim</td>\n",
       "    </tr>\n",
       "    <tr>\n",
       "      <th>2</th>\n",
       "      <td>93341</td>\n",
       "      <td>West</td>\n",
       "      <td>Gujarat</td>\n",
       "      <td>Rural</td>\n",
       "      <td>Ahmedabad</td>\n",
       "      <td>Business</td>\n",
       "      <td>Entertainment</td>\n",
       "      <td>TV</td>\n",
       "      <td>0</td>\n",
       "      <td>0</td>\n",
       "      <td>0</td>\n",
       "      <td>1</td>\n",
       "      <td>1</td>\n",
       "      <td>1</td>\n",
       "      <td>NaN</td>\n",
       "      <td>11</td>\n",
       "      <td>408</td>\n",
       "      <td>Dealer</td>\n",
       "      <td>30.0</td>\n",
       "      <td>Claim</td>\n",
       "    </tr>\n",
       "    <tr>\n",
       "      <th>3</th>\n",
       "      <td>9498</td>\n",
       "      <td>North East</td>\n",
       "      <td>Uttar Pradesh</td>\n",
       "      <td>Urban</td>\n",
       "      <td>Lucknow</td>\n",
       "      <td>Business</td>\n",
       "      <td>Household</td>\n",
       "      <td>AC</td>\n",
       "      <td>1</td>\n",
       "      <td>0</td>\n",
       "      <td>0</td>\n",
       "      <td>0</td>\n",
       "      <td>0</td>\n",
       "      <td>0</td>\n",
       "      <td>2000.0</td>\n",
       "      <td>10</td>\n",
       "      <td>148</td>\n",
       "      <td>Manufacturer</td>\n",
       "      <td>24.0</td>\n",
       "      <td>Claim</td>\n",
       "    </tr>\n",
       "    <tr>\n",
       "      <th>4</th>\n",
       "      <td>78191</td>\n",
       "      <td>North East</td>\n",
       "      <td>Uttar Pradesh</td>\n",
       "      <td>Urban</td>\n",
       "      <td>Lucknow</td>\n",
       "      <td>Personal</td>\n",
       "      <td>Entertainment</td>\n",
       "      <td>TV</td>\n",
       "      <td>0</td>\n",
       "      <td>0</td>\n",
       "      <td>0</td>\n",
       "      <td>0</td>\n",
       "      <td>0</td>\n",
       "      <td>0</td>\n",
       "      <td>0.0</td>\n",
       "      <td>10</td>\n",
       "      <td>125</td>\n",
       "      <td>Internet</td>\n",
       "      <td>1.0</td>\n",
       "      <td>Complaint</td>\n",
       "    </tr>\n",
       "  </tbody>\n",
       "</table>\n",
       "</div>"
      ],
      "text/plain": [
       "   Unnamed: 0      Region           State   Area       City Consumer_profile  \\\n",
       "0         775  South West  Andhra Pradesh  Urban  Hyderabad         Business   \n",
       "1        3130  South West  Andhra Pradesh  Urban  Hyderabad         Business   \n",
       "2       93341        West         Gujarat  Rural  Ahmedabad         Business   \n",
       "3        9498  North East   Uttar Pradesh  Urban    Lucknow         Business   \n",
       "4       78191  North East   Uttar Pradesh  Urban    Lucknow         Personal   \n",
       "\n",
       "  Product_category Product_type  AC_1001_Issue  AC_1002_Issue  AC_1003_Issue  \\\n",
       "0    Entertainment           TV              0              0              0   \n",
       "1    Entertainment           TV              0              0              0   \n",
       "2    Entertainment           TV              0              0              0   \n",
       "3        Household           AC              1              0              0   \n",
       "4    Entertainment           TV              0              0              0   \n",
       "\n",
       "   TV_2001_Issue  TV_2002_Issue  TV_2003_Issue  Claim_Value  Service_Centre  \\\n",
       "0              1              1              1      10000.0              13   \n",
       "1              1              1              1      20000.0              13   \n",
       "2              1              1              1          NaN              11   \n",
       "3              0              0              0       2000.0              10   \n",
       "4              0              0              0          0.0              10   \n",
       "\n",
       "   Product_Age Purchased_from  Call_details    Purpose  \n",
       "0            5         Dealer           2.6      Claim  \n",
       "1           14   Manufacturer           1.4      Claim  \n",
       "2          408         Dealer          30.0      Claim  \n",
       "3          148   Manufacturer          24.0      Claim  \n",
       "4          125       Internet           1.0  Complaint  "
      ]
     },
     "execution_count": 110,
     "metadata": {},
     "output_type": "execute_result"
    }
   ],
   "source": [
    "test.head()"
   ]
  },
  {
   "cell_type": "markdown",
   "metadata": {},
   "source": [
    "#### Preprocessing for test data as train"
   ]
  },
  {
   "cell_type": "code",
   "execution_count": 111,
   "metadata": {},
   "outputs": [
    {
     "data": {
      "text/plain": [
       "<AxesSubplot:>"
      ]
     },
     "execution_count": 111,
     "metadata": {},
     "output_type": "execute_result"
    },
    {
     "data": {
      "image/png": "[encoded data removed]",
      "text/plain": [
       "<Figure size 2160x720 with 2 Axes>"
      ]
     },
     "metadata": {
      "needs_background": "light"
     },
     "output_type": "display_data"
    }
   ],
   "source": [
    "missingno.matrix(test, figsize = (30,10))"
   ]
  },
  {
   "cell_type": "code",
   "execution_count": 112,
   "metadata": {},
   "outputs": [
    {
     "data": {
      "text/plain": [
       "Unnamed: 0           0\n",
       "Region               0\n",
       "State                0\n",
       "Area                 0\n",
       "City                 0\n",
       "Consumer_profile     0\n",
       "Product_category     0\n",
       "Product_type         0\n",
       "AC_1001_Issue        0\n",
       "AC_1002_Issue        0\n",
       "AC_1003_Issue        0\n",
       "TV_2001_Issue        0\n",
       "TV_2002_Issue        0\n",
       "TV_2003_Issue        0\n",
       "Claim_Value         93\n",
       "Service_Centre       0\n",
       "Product_Age          0\n",
       "Purchased_from       0\n",
       "Call_details         0\n",
       "Purpose              0\n",
       "dtype: int64"
      ]
     },
     "execution_count": 112,
     "metadata": {},
     "output_type": "execute_result"
    }
   ],
   "source": [
    "test.isnull().sum()"
   ]
  },
  {
   "cell_type": "code",
   "execution_count": 113,
   "metadata": {},
   "outputs": [],
   "source": [
    "## Replacing UP with Uttar Pradesh \n",
    "test.loc[(test.State == \"UP\"), \"State\"] = \"Uttar Pradesh\""
   ]
  },
  {
   "cell_type": "code",
   "execution_count": 114,
   "metadata": {},
   "outputs": [],
   "source": [
    "## Replacing claim with Claim\n",
    "test.loc[(test.Purpose == \"claim\"), \"Purpose\"] = \"Claim\""
   ]
  },
  {
   "cell_type": "code",
   "execution_count": 115,
   "metadata": {},
   "outputs": [],
   "source": [
    "## Separating hyderbad among two states. like Andhra Pradesh = Hyderbad, Telengana = Hyderabad 1\n",
    "test.loc[(test.State == \"Telengana\"), \"City\"] = \"Hyderabad 1\""
   ]
  },
  {
   "cell_type": "code",
   "execution_count": 116,
   "metadata": {},
   "outputs": [],
   "source": [
    "# Deleting first column\n",
    "test.drop([\"Unnamed: 0\"],inplace=True,axis=1) "
   ]
  },
  {
   "cell_type": "code",
   "execution_count": 117,
   "metadata": {},
   "outputs": [
    {
     "data": {
      "text/html": [
       "<div>\n",
       "<style scoped>\n",
       "    .dataframe tbody tr th:only-of-type {\n",
       "        vertical-align: middle;\n",
       "    }\n",
       "\n",
       "    .dataframe tbody tr th {\n",
       "        vertical-align: top;\n",
       "    }\n",
       "\n",
       "    .dataframe thead th {\n",
       "        text-align: right;\n",
       "    }\n",
       "</style>\n",
       "<table border=\"1\" class=\"dataframe\">\n",
       "  <thead>\n",
       "    <tr style=\"text-align: right;\">\n",
       "      <th></th>\n",
       "      <th>Region</th>\n",
       "      <th>State</th>\n",
       "      <th>Area</th>\n",
       "      <th>City</th>\n",
       "      <th>Consumer_profile</th>\n",
       "      <th>Product_category</th>\n",
       "      <th>Product_type</th>\n",
       "      <th>AC_1001_Issue</th>\n",
       "      <th>AC_1002_Issue</th>\n",
       "      <th>AC_1003_Issue</th>\n",
       "      <th>TV_2001_Issue</th>\n",
       "      <th>TV_2002_Issue</th>\n",
       "      <th>TV_2003_Issue</th>\n",
       "      <th>Claim_Value</th>\n",
       "      <th>Service_Centre</th>\n",
       "      <th>Product_Age</th>\n",
       "      <th>Purchased_from</th>\n",
       "      <th>Call_details</th>\n",
       "      <th>Purpose</th>\n",
       "    </tr>\n",
       "  </thead>\n",
       "  <tbody>\n",
       "    <tr>\n",
       "      <th>0</th>\n",
       "      <td>South West</td>\n",
       "      <td>Andhra Pradesh</td>\n",
       "      <td>Urban</td>\n",
       "      <td>Hyderabad</td>\n",
       "      <td>Business</td>\n",
       "      <td>Entertainment</td>\n",
       "      <td>TV</td>\n",
       "      <td>0</td>\n",
       "      <td>0</td>\n",
       "      <td>0</td>\n",
       "      <td>1</td>\n",
       "      <td>1</td>\n",
       "      <td>1</td>\n",
       "      <td>10000.0</td>\n",
       "      <td>13</td>\n",
       "      <td>5</td>\n",
       "      <td>Dealer</td>\n",
       "      <td>2.6</td>\n",
       "      <td>Claim</td>\n",
       "    </tr>\n",
       "    <tr>\n",
       "      <th>1</th>\n",
       "      <td>South West</td>\n",
       "      <td>Andhra Pradesh</td>\n",
       "      <td>Urban</td>\n",
       "      <td>Hyderabad</td>\n",
       "      <td>Business</td>\n",
       "      <td>Entertainment</td>\n",
       "      <td>TV</td>\n",
       "      <td>0</td>\n",
       "      <td>0</td>\n",
       "      <td>0</td>\n",
       "      <td>1</td>\n",
       "      <td>1</td>\n",
       "      <td>1</td>\n",
       "      <td>20000.0</td>\n",
       "      <td>13</td>\n",
       "      <td>14</td>\n",
       "      <td>Manufacturer</td>\n",
       "      <td>1.4</td>\n",
       "      <td>Claim</td>\n",
       "    </tr>\n",
       "    <tr>\n",
       "      <th>2</th>\n",
       "      <td>West</td>\n",
       "      <td>Gujarat</td>\n",
       "      <td>Rural</td>\n",
       "      <td>Ahmedabad</td>\n",
       "      <td>Business</td>\n",
       "      <td>Entertainment</td>\n",
       "      <td>TV</td>\n",
       "      <td>0</td>\n",
       "      <td>0</td>\n",
       "      <td>0</td>\n",
       "      <td>1</td>\n",
       "      <td>1</td>\n",
       "      <td>1</td>\n",
       "      <td>NaN</td>\n",
       "      <td>11</td>\n",
       "      <td>408</td>\n",
       "      <td>Dealer</td>\n",
       "      <td>30.0</td>\n",
       "      <td>Claim</td>\n",
       "    </tr>\n",
       "    <tr>\n",
       "      <th>3</th>\n",
       "      <td>North East</td>\n",
       "      <td>Uttar Pradesh</td>\n",
       "      <td>Urban</td>\n",
       "      <td>Lucknow</td>\n",
       "      <td>Business</td>\n",
       "      <td>Household</td>\n",
       "      <td>AC</td>\n",
       "      <td>1</td>\n",
       "      <td>0</td>\n",
       "      <td>0</td>\n",
       "      <td>0</td>\n",
       "      <td>0</td>\n",
       "      <td>0</td>\n",
       "      <td>2000.0</td>\n",
       "      <td>10</td>\n",
       "      <td>148</td>\n",
       "      <td>Manufacturer</td>\n",
       "      <td>24.0</td>\n",
       "      <td>Claim</td>\n",
       "    </tr>\n",
       "    <tr>\n",
       "      <th>4</th>\n",
       "      <td>North East</td>\n",
       "      <td>Uttar Pradesh</td>\n",
       "      <td>Urban</td>\n",
       "      <td>Lucknow</td>\n",
       "      <td>Personal</td>\n",
       "      <td>Entertainment</td>\n",
       "      <td>TV</td>\n",
       "      <td>0</td>\n",
       "      <td>0</td>\n",
       "      <td>0</td>\n",
       "      <td>0</td>\n",
       "      <td>0</td>\n",
       "      <td>0</td>\n",
       "      <td>0.0</td>\n",
       "      <td>10</td>\n",
       "      <td>125</td>\n",
       "      <td>Internet</td>\n",
       "      <td>1.0</td>\n",
       "      <td>Complaint</td>\n",
       "    </tr>\n",
       "  </tbody>\n",
       "</table>\n",
       "</div>"
      ],
      "text/plain": [
       "       Region           State   Area       City Consumer_profile  \\\n",
       "0  South West  Andhra Pradesh  Urban  Hyderabad         Business   \n",
       "1  South West  Andhra Pradesh  Urban  Hyderabad         Business   \n",
       "2        West         Gujarat  Rural  Ahmedabad         Business   \n",
       "3  North East   Uttar Pradesh  Urban    Lucknow         Business   \n",
       "4  North East   Uttar Pradesh  Urban    Lucknow         Personal   \n",
       "\n",
       "  Product_category Product_type  AC_1001_Issue  AC_1002_Issue  AC_1003_Issue  \\\n",
       "0    Entertainment           TV              0              0              0   \n",
       "1    Entertainment           TV              0              0              0   \n",
       "2    Entertainment           TV              0              0              0   \n",
       "3        Household           AC              1              0              0   \n",
       "4    Entertainment           TV              0              0              0   \n",
       "\n",
       "   TV_2001_Issue  TV_2002_Issue  TV_2003_Issue  Claim_Value  Service_Centre  \\\n",
       "0              1              1              1      10000.0              13   \n",
       "1              1              1              1      20000.0              13   \n",
       "2              1              1              1          NaN              11   \n",
       "3              0              0              0       2000.0              10   \n",
       "4              0              0              0          0.0              10   \n",
       "\n",
       "   Product_Age Purchased_from  Call_details    Purpose  \n",
       "0            5         Dealer           2.6      Claim  \n",
       "1           14   Manufacturer           1.4      Claim  \n",
       "2          408         Dealer          30.0      Claim  \n",
       "3          148   Manufacturer          24.0      Claim  \n",
       "4          125       Internet           1.0  Complaint  "
      ]
     },
     "execution_count": 117,
     "metadata": {},
     "output_type": "execute_result"
    }
   ],
   "source": [
    "test.head()"
   ]
  },
  {
   "cell_type": "code",
   "execution_count": 118,
   "metadata": {},
   "outputs": [],
   "source": [
    "#imputing missing values\n",
    "test.Claim_Value.isnull().sum()\n",
    "test[\"Claim_Value\"].median() #median = 10000 Rs\n",
    "test[\"Claim_Value\"].fillna(10000,inplace=True) # imputed with median "
   ]
  },
  {
   "cell_type": "code",
   "execution_count": 119,
   "metadata": {},
   "outputs": [
    {
     "data": {
      "text/plain": [
       "Region              0\n",
       "State               0\n",
       "Area                0\n",
       "City                0\n",
       "Consumer_profile    0\n",
       "Product_category    0\n",
       "Product_type        0\n",
       "AC_1001_Issue       0\n",
       "AC_1002_Issue       0\n",
       "AC_1003_Issue       0\n",
       "TV_2001_Issue       0\n",
       "TV_2002_Issue       0\n",
       "TV_2003_Issue       0\n",
       "Claim_Value         0\n",
       "Service_Centre      0\n",
       "Product_Age         0\n",
       "Purchased_from      0\n",
       "Call_details        0\n",
       "Purpose             0\n",
       "dtype: int64"
      ]
     },
     "execution_count": 119,
     "metadata": {},
     "output_type": "execute_result"
    }
   ],
   "source": [
    "test.isnull().sum()"
   ]
  },
  {
   "cell_type": "markdown",
   "metadata": {},
   "source": [
    "#### creating dummies"
   ]
  },
  {
   "cell_type": "code",
   "execution_count": 120,
   "metadata": {},
   "outputs": [],
   "source": [
    "# One hot encode the categorical columns individually\n",
    "test_Region_one_hot = pd.get_dummies(test['Region'],prefix='region')\n",
    "test_State_one_hot = pd.get_dummies(test['State'],prefix='state')\n",
    "test_Area_one_hot = pd.get_dummies(test['Area'],prefix='area')\n",
    "test_City_one_hot = pd.get_dummies(test['City'],prefix='city')\n",
    "test_Conpro_one_hot = pd.get_dummies(test['Consumer_profile'],prefix='consumer_profile')\n",
    "test_Procat_one_hot = pd.get_dummies(test['Product_category'],prefix='product_category')\n",
    "test_Protyp_one_hot = pd.get_dummies(test['Product_type'],prefix='product_type')\n",
    "test_Servc_one_hot = pd.get_dummies(test['Service_Centre'],prefix='serrvice_centre')\n",
    "test_Purfrm_one_hot = pd.get_dummies(test['Purchased_from'],prefix='purchased_from')\n",
    "test_Purpose_one_hot = pd.get_dummies(test['Purpose'],prefix='purpose')"
   ]
  },
  {
   "cell_type": "code",
   "execution_count": 121,
   "metadata": {},
   "outputs": [],
   "source": [
    "# Combine the one hot encoded columns with test\n",
    "x_test = pd.concat([test, \n",
    "                    test_Region_one_hot, \n",
    "                    test_State_one_hot, \n",
    "                    test_Area_one_hot, \n",
    "                    test_City_one_hot,\n",
    "                    test_Conpro_one_hot, \n",
    "                    test_Procat_one_hot,\n",
    "                    test_Protyp_one_hot, \n",
    "                    test_Servc_one_hot,\n",
    "                    test_Purfrm_one_hot, \n",
    "                    test_Purpose_one_hot,], axis=1)"
   ]
  },
  {
   "cell_type": "code",
   "execution_count": 122,
   "metadata": {},
   "outputs": [],
   "source": [
    "# Drop the original categorical columns (because now they've been one hot encoded)\n",
    "x_test = x_test.drop(['Region', 'State', 'Area','City',\n",
    "                      'Consumer_profile','Product_category',\n",
    "                      'Product_type','Service_Centre',\n",
    "                      'Purchased_from','Purpose'], axis=1)"
   ]
  },
  {
   "cell_type": "code",
   "execution_count": 123,
   "metadata": {},
   "outputs": [
    {
     "data": {
      "text/html": [
       "<div>\n",
       "<style scoped>\n",
       "    .dataframe tbody tr th:only-of-type {\n",
       "        vertical-align: middle;\n",
       "    }\n",
       "\n",
       "    .dataframe tbody tr th {\n",
       "        vertical-align: top;\n",
       "    }\n",
       "\n",
       "    .dataframe thead th {\n",
       "        text-align: right;\n",
       "    }\n",
       "</style>\n",
       "<table border=\"1\" class=\"dataframe\">\n",
       "  <thead>\n",
       "    <tr style=\"text-align: right;\">\n",
       "      <th></th>\n",
       "      <th>AC_1001_Issue</th>\n",
       "      <th>AC_1002_Issue</th>\n",
       "      <th>AC_1003_Issue</th>\n",
       "      <th>TV_2001_Issue</th>\n",
       "      <th>TV_2002_Issue</th>\n",
       "      <th>TV_2003_Issue</th>\n",
       "      <th>Claim_Value</th>\n",
       "      <th>Product_Age</th>\n",
       "      <th>Call_details</th>\n",
       "      <th>region_East</th>\n",
       "      <th>...</th>\n",
       "      <th>serrvice_centre_13</th>\n",
       "      <th>serrvice_centre_14</th>\n",
       "      <th>serrvice_centre_15</th>\n",
       "      <th>serrvice_centre_16</th>\n",
       "      <th>purchased_from_Dealer</th>\n",
       "      <th>purchased_from_Internet</th>\n",
       "      <th>purchased_from_Manufacturer</th>\n",
       "      <th>purpose_Claim</th>\n",
       "      <th>purpose_Complaint</th>\n",
       "      <th>purpose_Other</th>\n",
       "    </tr>\n",
       "  </thead>\n",
       "  <tbody>\n",
       "    <tr>\n",
       "      <th>0</th>\n",
       "      <td>0</td>\n",
       "      <td>0</td>\n",
       "      <td>0</td>\n",
       "      <td>1</td>\n",
       "      <td>1</td>\n",
       "      <td>1</td>\n",
       "      <td>10000.0</td>\n",
       "      <td>5</td>\n",
       "      <td>2.6</td>\n",
       "      <td>0</td>\n",
       "      <td>...</td>\n",
       "      <td>1</td>\n",
       "      <td>0</td>\n",
       "      <td>0</td>\n",
       "      <td>0</td>\n",
       "      <td>1</td>\n",
       "      <td>0</td>\n",
       "      <td>0</td>\n",
       "      <td>1</td>\n",
       "      <td>0</td>\n",
       "      <td>0</td>\n",
       "    </tr>\n",
       "    <tr>\n",
       "      <th>1</th>\n",
       "      <td>0</td>\n",
       "      <td>0</td>\n",
       "      <td>0</td>\n",
       "      <td>1</td>\n",
       "      <td>1</td>\n",
       "      <td>1</td>\n",
       "      <td>20000.0</td>\n",
       "      <td>14</td>\n",
       "      <td>1.4</td>\n",
       "      <td>0</td>\n",
       "      <td>...</td>\n",
       "      <td>1</td>\n",
       "      <td>0</td>\n",
       "      <td>0</td>\n",
       "      <td>0</td>\n",
       "      <td>0</td>\n",
       "      <td>0</td>\n",
       "      <td>1</td>\n",
       "      <td>1</td>\n",
       "      <td>0</td>\n",
       "      <td>0</td>\n",
       "    </tr>\n",
       "    <tr>\n",
       "      <th>2</th>\n",
       "      <td>0</td>\n",
       "      <td>0</td>\n",
       "      <td>0</td>\n",
       "      <td>1</td>\n",
       "      <td>1</td>\n",
       "      <td>1</td>\n",
       "      <td>10000.0</td>\n",
       "      <td>408</td>\n",
       "      <td>30.0</td>\n",
       "      <td>0</td>\n",
       "      <td>...</td>\n",
       "      <td>0</td>\n",
       "      <td>0</td>\n",
       "      <td>0</td>\n",
       "      <td>0</td>\n",
       "      <td>1</td>\n",
       "      <td>0</td>\n",
       "      <td>0</td>\n",
       "      <td>1</td>\n",
       "      <td>0</td>\n",
       "      <td>0</td>\n",
       "    </tr>\n",
       "    <tr>\n",
       "      <th>3</th>\n",
       "      <td>1</td>\n",
       "      <td>0</td>\n",
       "      <td>0</td>\n",
       "      <td>0</td>\n",
       "      <td>0</td>\n",
       "      <td>0</td>\n",
       "      <td>2000.0</td>\n",
       "      <td>148</td>\n",
       "      <td>24.0</td>\n",
       "      <td>0</td>\n",
       "      <td>...</td>\n",
       "      <td>0</td>\n",
       "      <td>0</td>\n",
       "      <td>0</td>\n",
       "      <td>0</td>\n",
       "      <td>0</td>\n",
       "      <td>0</td>\n",
       "      <td>1</td>\n",
       "      <td>1</td>\n",
       "      <td>0</td>\n",
       "      <td>0</td>\n",
       "    </tr>\n",
       "    <tr>\n",
       "      <th>4</th>\n",
       "      <td>0</td>\n",
       "      <td>0</td>\n",
       "      <td>0</td>\n",
       "      <td>0</td>\n",
       "      <td>0</td>\n",
       "      <td>0</td>\n",
       "      <td>0.0</td>\n",
       "      <td>125</td>\n",
       "      <td>1.0</td>\n",
       "      <td>0</td>\n",
       "      <td>...</td>\n",
       "      <td>0</td>\n",
       "      <td>0</td>\n",
       "      <td>0</td>\n",
       "      <td>0</td>\n",
       "      <td>0</td>\n",
       "      <td>1</td>\n",
       "      <td>0</td>\n",
       "      <td>0</td>\n",
       "      <td>1</td>\n",
       "      <td>0</td>\n",
       "    </tr>\n",
       "  </tbody>\n",
       "</table>\n",
       "<p>5 rows × 87 columns</p>\n",
       "</div>"
      ],
      "text/plain": [
       "   AC_1001_Issue  AC_1002_Issue  AC_1003_Issue  TV_2001_Issue  TV_2002_Issue  \\\n",
       "0              0              0              0              1              1   \n",
       "1              0              0              0              1              1   \n",
       "2              0              0              0              1              1   \n",
       "3              1              0              0              0              0   \n",
       "4              0              0              0              0              0   \n",
       "\n",
       "   TV_2003_Issue  Claim_Value  Product_Age  Call_details  region_East  ...  \\\n",
       "0              1      10000.0            5           2.6            0  ...   \n",
       "1              1      20000.0           14           1.4            0  ...   \n",
       "2              1      10000.0          408          30.0            0  ...   \n",
       "3              0       2000.0          148          24.0            0  ...   \n",
       "4              0          0.0          125           1.0            0  ...   \n",
       "\n",
       "   serrvice_centre_13  serrvice_centre_14  serrvice_centre_15  \\\n",
       "0                   1                   0                   0   \n",
       "1                   1                   0                   0   \n",
       "2                   0                   0                   0   \n",
       "3                   0                   0                   0   \n",
       "4                   0                   0                   0   \n",
       "\n",
       "   serrvice_centre_16  purchased_from_Dealer  purchased_from_Internet  \\\n",
       "0                   0                      1                        0   \n",
       "1                   0                      0                        0   \n",
       "2                   0                      1                        0   \n",
       "3                   0                      0                        0   \n",
       "4                   0                      0                        1   \n",
       "\n",
       "   purchased_from_Manufacturer  purpose_Claim  purpose_Complaint  \\\n",
       "0                            0              1                  0   \n",
       "1                            1              1                  0   \n",
       "2                            0              1                  0   \n",
       "3                            1              1                  0   \n",
       "4                            0              0                  1   \n",
       "\n",
       "   purpose_Other  \n",
       "0              0  \n",
       "1              0  \n",
       "2              0  \n",
       "3              0  \n",
       "4              0  \n",
       "\n",
       "[5 rows x 87 columns]"
      ]
     },
     "execution_count": 123,
     "metadata": {},
     "output_type": "execute_result"
    }
   ],
   "source": [
    "x_test.head()"
   ]
  },
  {
   "cell_type": "markdown",
   "metadata": {},
   "source": [
    "### Building Models"
   ]
  },
  {
   "cell_type": "markdown",
   "metadata": {},
   "source": [
    "##### 1) Logistic Regression"
   ]
  },
  {
   "cell_type": "code",
   "execution_count": 124,
   "metadata": {},
   "outputs": [
    {
     "data": {
      "text/plain": [
       "80.76"
      ]
     },
     "execution_count": 124,
     "metadata": {},
     "output_type": "execute_result"
    }
   ],
   "source": [
    "logreg = LogisticRegression()\n",
    "logreg.fit(x_train, y_train)\n",
    "y_pred = logreg.predict(x_test)\n",
    "acc_log = round(logreg.score(x_train, y_train) * 100, 2)\n",
    "acc_log"
   ]
  },
  {
   "cell_type": "markdown",
   "metadata": {},
   "source": [
    "#### 2) SVM"
   ]
  },
  {
   "cell_type": "code",
   "execution_count": 125,
   "metadata": {},
   "outputs": [
    {
     "data": {
      "text/plain": [
       "72.53"
      ]
     },
     "execution_count": 125,
     "metadata": {},
     "output_type": "execute_result"
    }
   ],
   "source": [
    "svc = SVC()\n",
    "svc.fit(x_train, y_train)\n",
    "y_pred = svc.predict(x_test)\n",
    "acc_svc = round(svc.score(x_train, y_train) * 100, 2)\n",
    "acc_svc"
   ]
  },
  {
   "cell_type": "markdown",
   "metadata": {},
   "source": [
    "#### 3) KNN"
   ]
  },
  {
   "cell_type": "code",
   "execution_count": 126,
   "metadata": {},
   "outputs": [
    {
     "data": {
      "text/plain": [
       "96.57"
      ]
     },
     "execution_count": 126,
     "metadata": {},
     "output_type": "execute_result"
    }
   ],
   "source": [
    "knn = KNeighborsClassifier(n_neighbors = 11)\n",
    "knn.fit(x_train, y_train)\n",
    "y_pred = knn.predict(x_test)\n",
    "acc_knn = round(knn.score(x_train, y_train) * 100, 2)\n",
    "acc_knn"
   ]
  },
  {
   "cell_type": "markdown",
   "metadata": {},
   "source": [
    "#### 4) Decision Tree"
   ]
  },
  {
   "cell_type": "code",
   "execution_count": 127,
   "metadata": {},
   "outputs": [
    {
     "data": {
      "text/plain": [
       "97.32"
      ]
     },
     "execution_count": 127,
     "metadata": {},
     "output_type": "execute_result"
    }
   ],
   "source": [
    "decision_tree = DecisionTreeClassifier()\n",
    "decision_tree.fit(x_train, y_train)\n",
    "y_pred = decision_tree.predict(x_test)\n",
    "acc_decision_tree = round(decision_tree.score(x_train, y_train) * 100, 2)\n",
    "acc_decision_tree"
   ]
  },
  {
   "cell_type": "markdown",
   "metadata": {},
   "source": [
    "#### 5) Random Forest"
   ]
  },
  {
   "cell_type": "code",
   "execution_count": 128,
   "metadata": {},
   "outputs": [
    {
     "data": {
      "text/plain": [
       "97.32"
      ]
     },
     "execution_count": 128,
     "metadata": {},
     "output_type": "execute_result"
    }
   ],
   "source": [
    "random_forest = RandomForestClassifier(n_estimators=100)\n",
    "random_forest.fit(x_train, y_train)\n",
    "y_pred = random_forest.predict(x_test)\n",
    "random_forest.score(x_train, y_train)\n",
    "acc_random_forest = round(random_forest.score(x_train, y_train) * 100, 2)\n",
    "acc_random_forest"
   ]
  },
  {
   "cell_type": "markdown",
   "metadata": {},
   "source": [
    "## Model Evalution"
   ]
  },
  {
   "cell_type": "code",
   "execution_count": 129,
   "metadata": {},
   "outputs": [
    {
     "data": {
      "text/html": [
       "<div>\n",
       "<style scoped>\n",
       "    .dataframe tbody tr th:only-of-type {\n",
       "        vertical-align: middle;\n",
       "    }\n",
       "\n",
       "    .dataframe tbody tr th {\n",
       "        vertical-align: top;\n",
       "    }\n",
       "\n",
       "    .dataframe thead th {\n",
       "        text-align: right;\n",
       "    }\n",
       "</style>\n",
       "<table border=\"1\" class=\"dataframe\">\n",
       "  <thead>\n",
       "    <tr style=\"text-align: right;\">\n",
       "      <th></th>\n",
       "      <th>Model</th>\n",
       "      <th>Score</th>\n",
       "    </tr>\n",
       "  </thead>\n",
       "  <tbody>\n",
       "    <tr>\n",
       "      <th>0</th>\n",
       "      <td>Random Forest</td>\n",
       "      <td>97.32</td>\n",
       "    </tr>\n",
       "    <tr>\n",
       "      <th>1</th>\n",
       "      <td>Decision Tree</td>\n",
       "      <td>97.32</td>\n",
       "    </tr>\n",
       "    <tr>\n",
       "      <th>2</th>\n",
       "      <td>KNN</td>\n",
       "      <td>96.57</td>\n",
       "    </tr>\n",
       "    <tr>\n",
       "      <th>3</th>\n",
       "      <td>Logistic Regression</td>\n",
       "      <td>80.76</td>\n",
       "    </tr>\n",
       "    <tr>\n",
       "      <th>4</th>\n",
       "      <td>Support Vector Machines</td>\n",
       "      <td>72.53</td>\n",
       "    </tr>\n",
       "  </tbody>\n",
       "</table>\n",
       "</div>"
      ],
      "text/plain": [
       "                     Model  Score\n",
       "0            Random Forest  97.32\n",
       "1            Decision Tree  97.32\n",
       "2                      KNN  96.57\n",
       "3      Logistic Regression  80.76\n",
       "4  Support Vector Machines  72.53"
      ]
     },
     "execution_count": 129,
     "metadata": {},
     "output_type": "execute_result"
    }
   ],
   "source": [
    "models = pd.DataFrame({\n",
    "    'Model': ['Support Vector Machines', 'KNN', 'Logistic Regression', \n",
    "              'Random Forest', \n",
    "              'Decision Tree'],\n",
    "    'Score': [acc_svc, acc_knn, acc_log, \n",
    "              acc_random_forest, acc_decision_tree]})\n",
    "models.sort_values(by='Score', ascending=False, ignore_index=True)"
   ]
  }
 ],
 "metadata": {
  "kernelspec": {
   "display_name": "Python 3",
   "language": "python",
   "name": "python3"
  },
  "language_info": {
   "codemirror_mode": {
    "name": "ipython",
    "version": 3
   },
   "file_extension": ".py",
   "mimetype": "text/x-python",
   "name": "python",
   "nbconvert_exporter": "python",
   "pygments_lexer": "ipython3",
   "version": "3.8.5"
  }
 },
 "nbformat": 4,
 "nbformat_minor": 4
}
